{
 "cells": [
  {
   "cell_type": "code",
   "execution_count": 20,
   "metadata": {},
   "outputs": [],
   "source": [
    "import json\n",
    "import pathlib\n",
    "\n",
    "import pandas as pd\n",
    "\n",
    "import colandr\n",
    "from colandr.lib.fileio import bibtex"
   ]
  },
  {
   "cell_type": "code",
   "execution_count": 14,
   "metadata": {},
   "outputs": [],
   "source": [
    "file_paths = [\n",
    "    \"/Users/burtondewilde/Desktop/projects/datakind__colandr/permanent-colandr-back/colandr_data/dedupe-v2/clio-climate-change-adaptation-politics-northeastern-united-states-right-wing.bib\",\n",
    "    \"/Users/burtondewilde/Desktop/projects/datakind__colandr/permanent-colandr-back/colandr_data/dedupe-v2/google-scholar-climate-change-adaptation-politics-northeastern-united-states-right-wing.bib\",\n",
    "    \"/Users/burtondewilde/Desktop/projects/datakind__colandr/permanent-colandr-back/colandr_data/dedupe-v2/jstor-climate-change-adaptation-politics-northeastern-united-states-right-wing.bib\",\n",
    "    \"/Users/burtondewilde/Desktop/projects/datakind__colandr/permanent-colandr-back/colandr_data/dedupe-v2/proquest-climate-change-adaptation-politics-northeastern-united-states-right-wing.bib\",\n",
    "    \"/Users/burtondewilde/Desktop/projects/datakind__colandr/permanent-colandr-back/colandr_data/dedupe-v2/semantic-scholar-climate-change-adaptation-politics-northeastern-united-states-right-wing.bib\",\n",
    "]"
   ]
  },
  {
   "cell_type": "code",
   "execution_count": 23,
   "metadata": {},
   "outputs": [],
   "source": [
    "records = []\n",
    "for file_path in file_paths:\n",
    "    file_path = pathlib.Path(file_path)\n",
    "    if file_path.suffix == \".bib\":\n",
    "        records_ = bibtex.read(file_path)\n",
    "        records.extend(records_)\n",
    "for i, record in enumerate(records):\n",
    "    record[\"id\"] = i"
   ]
  },
  {
   "cell_type": "code",
   "execution_count": 24,
   "metadata": {},
   "outputs": [
    {
     "data": {
      "text/plain": [
       "101"
      ]
     },
     "execution_count": 24,
     "metadata": {},
     "output_type": "execute_result"
    }
   ],
   "source": [
    "len(records)"
   ]
  },
  {
   "cell_type": "code",
   "execution_count": 25,
   "metadata": {},
   "outputs": [],
   "source": [
    "with open(\"/Users/burtondewilde/Desktop/projects/datakind__colandr/permanent-colandr-back/colandr_data/dedupe-v2/training.json\", mode=\"w\") as f:\n",
    "    json.dump(records, f, indent=4)"
   ]
  },
  {
   "cell_type": "code",
   "execution_count": null,
   "metadata": {},
   "outputs": [],
   "source": []
  },
  {
   "cell_type": "code",
   "execution_count": null,
   "metadata": {},
   "outputs": [],
   "source": []
  },
  {
   "cell_type": "code",
   "execution_count": null,
   "metadata": {},
   "outputs": [],
   "source": []
  },
  {
   "cell_type": "markdown",
   "metadata": {},
   "source": [
    "---"
   ]
  },
  {
   "cell_type": "code",
   "execution_count": 1,
   "metadata": {
    "collapsed": false,
    "jupyter": {
     "outputs_hidden": false
    }
   },
   "outputs": [],
   "source": [
    "import io\n",
    "import json\n",
    "import logging\n",
    "import math\n",
    "import re\n",
    "\n",
    "import numpy as np\n",
    "import pandas as pd\n",
    "from toolz import itertoolz\n",
    "\n",
    "import cipy\n",
    "import textacy"
   ]
  },
  {
   "cell_type": "code",
   "execution_count": 2,
   "metadata": {
    "collapsed": true,
    "jupyter": {
     "outputs_hidden": true
    }
   },
   "outputs": [],
   "source": [
    "logger = logging.getLogger('cipy')\n",
    "logger.setLevel(logging.DEBUG)"
   ]
  },
  {
   "cell_type": "code",
   "execution_count": 3,
   "metadata": {
    "collapsed": false,
    "jupyter": {
     "outputs_hidden": false
    }
   },
   "outputs": [],
   "source": [
    "conn_creds = cipy.db.get_conn_creds('DATABASE_URL')\n",
    "pgdb = cipy.db.PostgresDB(conn_creds)"
   ]
  },
  {
   "cell_type": "code",
   "execution_count": 4,
   "metadata": {
    "collapsed": true,
    "jupyter": {
     "outputs_hidden": true
    }
   },
   "outputs": [],
   "source": [
    "review_id = 1\n",
    "user_id = 1"
   ]
  },
  {
   "cell_type": "code",
   "execution_count": 5,
   "metadata": {
    "collapsed": false,
    "jupyter": {
     "outputs_hidden": false
    }
   },
   "outputs": [
    {
     "data": {
      "text/plain": [
       "[(1, False),\n",
       " (2, False),\n",
       " (3, False),\n",
       " (4, False),\n",
       " (5, False),\n",
       " (6, False),\n",
       " (7, False),\n",
       " (8, False),\n",
       " (9, False),\n",
       " (10, False)]"
      ]
     },
     "execution_count": 5,
     "metadata": {},
     "output_type": "execute_result"
    }
   ],
   "source": [
    "# load (known!) include/exclude decisions\n",
    "selection_data = cipy.hacks.load_citation_selection_data()\n",
    "list(selection_data.items())[:10]"
   ]
  },
  {
   "cell_type": "code",
   "execution_count": 6,
   "metadata": {
    "collapsed": false,
    "jupyter": {
     "outputs_hidden": false
    },
    "scrolled": true
   },
   "outputs": [
    {
     "name": "stdout",
     "output_type": "stream",
     "text": [
      "(1000, 10)\n"
     ]
    },
    {
     "data": {
      "text/html": [
       "<div>\n",
       "<table border=\"1\" class=\"dataframe\">\n",
       "  <thead>\n",
       "    <tr style=\"text-align: right;\">\n",
       "      <th></th>\n",
       "      <th>abstract</th>\n",
       "      <th>authors</th>\n",
       "      <th>citation_id</th>\n",
       "      <th>citation_screening</th>\n",
       "      <th>citation_text</th>\n",
       "      <th>doi</th>\n",
       "      <th>keywords</th>\n",
       "      <th>publication_year</th>\n",
       "      <th>title</th>\n",
       "      <th>included</th>\n",
       "    </tr>\n",
       "  </thead>\n",
       "  <tbody>\n",
       "    <tr>\n",
       "      <th>0</th>\n",
       "      <td>Based on a schematical model, an attempt is ma...</td>\n",
       "      <td>[Appasamy, P, Lundqvist, J]</td>\n",
       "      <td>1189</td>\n",
       "      <td>None</td>\n",
       "      <td>WATER-SUPPLY AND WASTE-DISPOSAL STRATEGIES FOR...</td>\n",
       "      <td>None</td>\n",
       "      <td>None</td>\n",
       "      <td>1993.0</td>\n",
       "      <td>WATER-SUPPLY AND WASTE-DISPOSAL STRATEGIES FOR...</td>\n",
       "      <td>False</td>\n",
       "    </tr>\n",
       "    <tr>\n",
       "      <th>1</th>\n",
       "      <td>In light of the increasing mandate for greater...</td>\n",
       "      <td>[Papageorgiou, K]</td>\n",
       "      <td>19732</td>\n",
       "      <td>None</td>\n",
       "      <td>A combined park management framework based on ...</td>\n",
       "      <td>None</td>\n",
       "      <td>[Conservation, Education, Greece, Management s...</td>\n",
       "      <td>2001.0</td>\n",
       "      <td>A combined park management framework based on ...</td>\n",
       "      <td>False</td>\n",
       "    </tr>\n",
       "    <tr>\n",
       "      <th>2</th>\n",
       "      <td>Ecosystems provide important services that can...</td>\n",
       "      <td>[Djoudi, H, Locatelli, B, Pramova, E, Somorin,...</td>\n",
       "      <td>20692</td>\n",
       "      <td>None</td>\n",
       "      <td>Forests and trees for social adaptation to cli...</td>\n",
       "      <td>None</td>\n",
       "      <td>None</td>\n",
       "      <td>2012.0</td>\n",
       "      <td>Forests and trees for social adaptation to cli...</td>\n",
       "      <td>False</td>\n",
       "    </tr>\n",
       "    <tr>\n",
       "      <th>3</th>\n",
       "      <td>The directorate-general of the European Commis...</td>\n",
       "      <td>[Kranz, O, Lang, S, Stephen Clandillon, S]</td>\n",
       "      <td>14214</td>\n",
       "      <td>None</td>\n",
       "      <td>Earth observation in conflict\\n\\nThe directora...</td>\n",
       "      <td>None</td>\n",
       "      <td>None</td>\n",
       "      <td>2009.0</td>\n",
       "      <td>Earth observation in conflict</td>\n",
       "      <td>False</td>\n",
       "    </tr>\n",
       "    <tr>\n",
       "      <th>4</th>\n",
       "      <td>The assumption of this paper is therefore that...</td>\n",
       "      <td>[Malherbe, B]</td>\n",
       "      <td>16149</td>\n",
       "      <td>None</td>\n",
       "      <td>Indigenous knowledge and practice in HIV/AIDS ...</td>\n",
       "      <td>None</td>\n",
       "      <td>None</td>\n",
       "      <td>2002.0</td>\n",
       "      <td>Indigenous knowledge and practice in HIV/AIDS ...</td>\n",
       "      <td>False</td>\n",
       "    </tr>\n",
       "  </tbody>\n",
       "</table>\n",
       "</div>"
      ],
      "text/plain": [
       "                                            abstract  \\\n",
       "0  Based on a schematical model, an attempt is ma...   \n",
       "1  In light of the increasing mandate for greater...   \n",
       "2  Ecosystems provide important services that can...   \n",
       "3  The directorate-general of the European Commis...   \n",
       "4  The assumption of this paper is therefore that...   \n",
       "\n",
       "                                             authors  citation_id  \\\n",
       "0                        [Appasamy, P, Lundqvist, J]         1189   \n",
       "1                                  [Papageorgiou, K]        19732   \n",
       "2  [Djoudi, H, Locatelli, B, Pramova, E, Somorin,...        20692   \n",
       "3         [Kranz, O, Lang, S, Stephen Clandillon, S]        14214   \n",
       "4                                      [Malherbe, B]        16149   \n",
       "\n",
       "  citation_screening                                      citation_text   doi  \\\n",
       "0               None  WATER-SUPPLY AND WASTE-DISPOSAL STRATEGIES FOR...  None   \n",
       "1               None  A combined park management framework based on ...  None   \n",
       "2               None  Forests and trees for social adaptation to cli...  None   \n",
       "3               None  Earth observation in conflict\\n\\nThe directora...  None   \n",
       "4               None  Indigenous knowledge and practice in HIV/AIDS ...  None   \n",
       "\n",
       "                                            keywords  publication_year  \\\n",
       "0                                               None            1993.0   \n",
       "1  [Conservation, Education, Greece, Management s...            2001.0   \n",
       "2                                               None            2012.0   \n",
       "3                                               None            2009.0   \n",
       "4                                               None            2002.0   \n",
       "\n",
       "                                               title included  \n",
       "0  WATER-SUPPLY AND WASTE-DISPOSAL STRATEGIES FOR...    False  \n",
       "1  A combined park management framework based on ...    False  \n",
       "2  Forests and trees for social adaptation to cli...    False  \n",
       "3                      Earth observation in conflict    False  \n",
       "4  Indigenous knowledge and practice in HIV/AIDS ...    False  "
      ]
     },
     "execution_count": 6,
     "metadata": {},
     "output_type": "execute_result"
    }
   ],
   "source": [
    "query = cipy.db.queries.SELECT_CITATIONS_TO_SCREEN\n",
    "bindings = {'review_id': 1, 'sample_size': 1000}\n",
    "df = pd.DataFrame(pgdb.run_query(query, bindings))\n",
    "df['included'] = df['citation_id'].map(lambda cid: selection_data[cid])\n",
    "\n",
    "print(df.shape)\n",
    "df.head()"
   ]
  },
  {
   "cell_type": "code",
   "execution_count": 63,
   "metadata": {
    "collapsed": false,
    "jupyter": {
     "outputs_hidden": false
    },
    "scrolled": true
   },
   "outputs": [
    {
     "data": {
      "text/plain": [
       "6      1\n",
       "10     1\n",
       "41     1\n",
       "46     1\n",
       "51     1\n",
       "56     1\n",
       "57     1\n",
       "68     1\n",
       "72     1\n",
       "75     1\n",
       "80     1\n",
       "96     1\n",
       "114    1\n",
       "120    1\n",
       "123    1\n",
       "127    1\n",
       "131    1\n",
       "149    1\n",
       "163    1\n",
       "166    1\n",
       "168    1\n",
       "171    1\n",
       "173    1\n",
       "179    1\n",
       "184    1\n",
       "192    1\n",
       "198    1\n",
       "206    1\n",
       "212    1\n",
       "213    1\n",
       "      ..\n",
       "914    1\n",
       "915    1\n",
       "916    1\n",
       "917    1\n",
       "918    1\n",
       "919    1\n",
       "925    1\n",
       "931    1\n",
       "939    1\n",
       "940    1\n",
       "946    1\n",
       "948    1\n",
       "949    1\n",
       "950    1\n",
       "955    1\n",
       "958    1\n",
       "960    1\n",
       "972    1\n",
       "978    1\n",
       "979    1\n",
       "989    1\n",
       "990    1\n",
       "991    1\n",
       "993    1\n",
       "994    1\n",
       "995    1\n",
       "996    1\n",
       "997    1\n",
       "998    1\n",
       "999    1\n",
       "dtype: int64"
      ]
     },
     "execution_count": 63,
     "metadata": {},
     "output_type": "execute_result"
    }
   ],
   "source": [
    "df[df['keywords'].isnull()].apply(lambda x: 1, axis=1)"
   ]
  },
  {
   "cell_type": "code",
   "execution_count": 71,
   "metadata": {
    "collapsed": false,
    "jupyter": {
     "outputs_hidden": false
    }
   },
   "outputs": [
    {
     "name": "stdout",
     "output_type": "stream",
     "text": [
      "Using psychology to save biodiversity and human well-being\n"
     ]
    }
   ],
   "source": [
    "def build_citation_text(row):\n",
    "    title = row['title'] or ''\n",
    "    abstract = row['abstract'] or ''\n",
    "    keywords = '; '.join(row['keywords']) if row['keywords'] else ''\n",
    "    text = '\\n\\n'.join((title, abstract, keywords)).strip()\n",
    "    return text\n",
    "\n",
    "print(df[df['abstract'].isnull()].apply(build_citation_text, axis=1).iloc[0])"
   ]
  },
  {
   "cell_type": "code",
   "execution_count": 9,
   "metadata": {
    "collapsed": false,
    "jupyter": {
     "outputs_hidden": false
    }
   },
   "outputs": [
    {
     "name": "stdout",
     "output_type": "stream",
     "text": [
      "# included = 23\n"
     ]
    }
   ],
   "source": [
    "print('# included =', df['included'].sum())"
   ]
  },
  {
   "cell_type": "code",
   "execution_count": 10,
   "metadata": {
    "collapsed": false,
    "jupyter": {
     "outputs_hidden": false
    }
   },
   "outputs": [
    {
     "name": "stdout",
     "output_type": "stream",
     "text": [
      "WATER-SUPPLY AND WASTE-DISPOSAL STRATEGIES FOR MADRAS\n",
      "\n",
      "Based on a schematical model, an attempt is made to relate the magnitude of material flow into and out of Madras, a coastal city in Southeast India. The focus is on the role of the household sector. Water scarcity and seasonal variation in precipitation together with a flat topography are significant problems for proper material-flow management. The comparatively large number of people living in slums, with virtually no sanitary or other facilities, means that the activities and livelihood of about 1.5 million people are outside the control of most planning efforts. In addition, the large cattle population within the city contributes to a wide range of environmental and health hazards. The prevailing socioeconomic conditions mean that most material is reused or recycled. The average amount of garbage is less than one kilo per person and day. However, due to the size of the city and the overall amount of waste it produces, more efforts must be devoted to making proper use of renewable resources to reduce waste production. Special concern must be given to slum areas and to vulnerable communities.\n"
     ]
    }
   ],
   "source": [
    "print(df.ix[0, 'citation_text'])"
   ]
  },
  {
   "cell_type": "code",
   "execution_count": 11,
   "metadata": {
    "collapsed": false,
    "jupyter": {
     "outputs_hidden": false
    }
   },
   "outputs": [
    {
     "data": {
      "text/plain": [
       "[{'group': 'outcome',\n",
       "  'synonyms': ['well-being', 'well being'],\n",
       "  'term': 'wellbeing'},\n",
       " {'group': 'outcome',\n",
       "  'synonyms': ['ecosystem services'],\n",
       "  'term': 'ecosystem service'},\n",
       " {'group': 'outcome', 'synonyms': [], 'term': 'nutrition'},\n",
       " {'group': 'outcome', 'synonyms': ['skills'], 'term': 'skill'},\n",
       " {'group': 'outcome', 'synonyms': ['empowering'], 'term': 'empower'}]"
      ]
     },
     "execution_count": 11,
     "metadata": {},
     "output_type": "execute_result"
    }
   ],
   "source": [
    "query = \"SELECT keyterms FROM review_plans WHERE review_id = %(review_id)s\"\n",
    "keyterms = list(pgdb.run_query(query, {'review_id': review_id}))[0]['keyterms']\n",
    "keyterms[:5]"
   ]
  },
  {
   "cell_type": "code",
   "execution_count": 12,
   "metadata": {
    "collapsed": false,
    "jupyter": {
     "outputs_hidden": false
    }
   },
   "outputs": [
    {
     "data": {
      "text/plain": [
       "re.compile(r'(?<=^|\\b)(wellbeing|well\\-being|well\\ being|ecosystem\\ service|ecosystem\\ services|nutrition|skill|skills|empower|empowering|clean\\ water|livelihood|livelihoods|food\\ security|resilience|vulnerability|capital|social\\ capital|attitude|attitudes|perception|perceptions|health|human\\ health|human\\ capital|knowledge|traditional\\ knowledge|marine|freshwater|coastal|forest|forests|forestry|ecosystem|ecosystems|species|habitat|habitats|biodiversity|sustainable|sustainability|ecology|ecological|integrated|landscape|seascape|coral\\ reef|coral\\ reefs|natural\\ resources|natural\\ resource|human|humans|humanity|people|person|persons|community|communities|household|households|fishermen|fisherman|collaborative|conservation|conserve|conservancy|protect|protects|protection|management|awareness|law|laws|policy|policy\\-making|reserve|govern|governs|government|capacity\\-build|capacity\\-building|capacity\\ building|train|tarins|training|PES|ecotourism|eco\\-tourism|sustainable\\ use)(?=$|\\b)',\n",
       "re.IGNORECASE|re.UNICODE)"
      ]
     },
     "execution_count": 12,
     "metadata": {},
     "output_type": "execute_result"
    }
   ],
   "source": [
    "keyterms_regex = cipy.utils.get_keyterms_regex(keyterms)\n",
    "keyterms_regex"
   ]
  },
  {
   "cell_type": "code",
   "execution_count": 36,
   "metadata": {
    "collapsed": false,
    "jupyter": {
     "outputs_hidden": false
    }
   },
   "outputs": [],
   "source": [
    "def get_keyterms_regex_match_score(citation_text):\n",
    "    full_len = len(citation_text)\n",
    "    if full_len == 0:\n",
    "        return 0.0\n",
    "    match_len = sum(len(match.group()) for match in keyterms_regex.finditer(citation_text))\n",
    "    nonmatch_len = full_len - match_len\n",
    "    try:\n",
    "        return math.sqrt(full_len) * match_len / nonmatch_len\n",
    "    except ValueError:\n",
    "        print(match_len, nonmatch_len, full_len)\n",
    "        \n",
    "        \n",
    "# def get_keyterms_regex_match_score(citation_text, len_pow_scaling=0.5):\n",
    "#     try:\n",
    "#         return (math.pow(len(citation_text), len_pow_scaling)\n",
    "#                 * sum(len(match.group()) for match in keyterms_regex.finditer(citation_text))\n",
    "#                 / len(citation_text))\n",
    "#     except ZeroDivisionError:\n",
    "#         return 0.0\n",
    "    \n",
    "    \n",
    "# def get_keyterms_regex_match_score(citation_text, len_pow_scaling=0.5):\n",
    "#     text_len = len(citation_text)\n",
    "#     if text_len == 0:\n",
    "#         return 0.0\n",
    "#     return sum(1 for _ in keyterms_regex.finditer(citation_text)) / math.pow(text_len, len_pow_scaling)\n",
    "\n",
    "\n",
    "df['regex_match_score'] = df['citation_text'].map(lambda x: get_keyterms_regex_match_score(x))\n",
    "df['regex_match_pctrank'] = df['regex_match_score'].rank(pct=True, ascending=True)\n",
    "df.sort_values('regex_match_pctrank', inplace=True, ascending=False)"
   ]
  },
  {
   "cell_type": "code",
   "execution_count": 37,
   "metadata": {
    "collapsed": true,
    "jupyter": {
     "outputs_hidden": true
    }
   },
   "outputs": [],
   "source": [
    "df.reset_index(drop=True, inplace=True)"
   ]
  },
  {
   "cell_type": "code",
   "execution_count": 38,
   "metadata": {
    "collapsed": false,
    "jupyter": {
     "outputs_hidden": false
    },
    "scrolled": true
   },
   "outputs": [
    {
     "data": {
      "text/html": [
       "<div>\n",
       "<table border=\"1\" class=\"dataframe\">\n",
       "  <thead>\n",
       "    <tr style=\"text-align: right;\">\n",
       "      <th></th>\n",
       "      <th>abstract</th>\n",
       "      <th>authors</th>\n",
       "      <th>citation_id</th>\n",
       "      <th>citation_screening</th>\n",
       "      <th>citation_text</th>\n",
       "      <th>doi</th>\n",
       "      <th>keywords</th>\n",
       "      <th>publication_year</th>\n",
       "      <th>title</th>\n",
       "      <th>included</th>\n",
       "      <th>regex_match_score</th>\n",
       "      <th>regex_match_pctrank</th>\n",
       "    </tr>\n",
       "  </thead>\n",
       "  <tbody>\n",
       "    <tr>\n",
       "      <th>0</th>\n",
       "      <td>The patterns of forest resource use in South K...</td>\n",
       "      <td>[Youn, Y C]</td>\n",
       "      <td>28123</td>\n",
       "      <td>None</td>\n",
       "      <td>Use of forest resources, traditional forest-re...</td>\n",
       "      <td>None</td>\n",
       "      <td>[Accessibility, Forest resource use, Livelihoo...</td>\n",
       "      <td>2009.0</td>\n",
       "      <td>Use of forest resources, traditional forest-re...</td>\n",
       "      <td>False</td>\n",
       "      <td>12.029494</td>\n",
       "      <td>1.000</td>\n",
       "    </tr>\n",
       "    <tr>\n",
       "      <th>1</th>\n",
       "      <td>In the Cardamom Ranges (Cambodia) community-ba...</td>\n",
       "      <td>[Beilin, R, Lo Cascio, A]</td>\n",
       "      <td>15507</td>\n",
       "      <td>None</td>\n",
       "      <td>Of biodiversity and boundaries: A case study o...</td>\n",
       "      <td>None</td>\n",
       "      <td>[biodiversity conservation, community-based na...</td>\n",
       "      <td>2010.0</td>\n",
       "      <td>Of biodiversity and boundaries: A case study o...</td>\n",
       "      <td>False</td>\n",
       "      <td>11.407173</td>\n",
       "      <td>0.999</td>\n",
       "    </tr>\n",
       "    <tr>\n",
       "      <th>2</th>\n",
       "      <td>Indigenous people have a vital role in environ...</td>\n",
       "      <td>[Chun, J]</td>\n",
       "      <td>5842</td>\n",
       "      <td>None</td>\n",
       "      <td>A legal approach to induce the traditional kno...</td>\n",
       "      <td>None</td>\n",
       "      <td>[Common law, Indigenous people, Natural resour...</td>\n",
       "      <td>2014.0</td>\n",
       "      <td>A legal approach to induce the traditional kno...</td>\n",
       "      <td>False</td>\n",
       "      <td>10.346002</td>\n",
       "      <td>0.998</td>\n",
       "    </tr>\n",
       "    <tr>\n",
       "      <th>3</th>\n",
       "      <td>This chapter describes how ecosystem stewardsh...</td>\n",
       "      <td>[Chapin, F S, Seastedt, T R, Suding, K N]</td>\n",
       "      <td>23012</td>\n",
       "      <td>None</td>\n",
       "      <td>Ecosystem Stewardship as a Framework for Conse...</td>\n",
       "      <td>None</td>\n",
       "      <td>[Ecosystem management, Ecosystem services, Eco...</td>\n",
       "      <td>2013.0</td>\n",
       "      <td>Ecosystem Stewardship as a Framework for Conse...</td>\n",
       "      <td>False</td>\n",
       "      <td>9.894718</td>\n",
       "      <td>0.997</td>\n",
       "    </tr>\n",
       "    <tr>\n",
       "      <th>4</th>\n",
       "      <td>This paper presents a synthesis of grassroots ...</td>\n",
       "      <td>[Pilgrim, S, Pretty, J, Singh, R K]</td>\n",
       "      <td>23730</td>\n",
       "      <td>None</td>\n",
       "      <td>Traditional knowledge and biocultural diversit...</td>\n",
       "      <td>None</td>\n",
       "      <td>[Biocultural diversity, Conservation, Liveliho...</td>\n",
       "      <td>2010.0</td>\n",
       "      <td>Traditional knowledge and biocultural diversit...</td>\n",
       "      <td>False</td>\n",
       "      <td>9.823599</td>\n",
       "      <td>0.996</td>\n",
       "    </tr>\n",
       "    <tr>\n",
       "      <th>5</th>\n",
       "      <td>Incentives used to encourage local residents t...</td>\n",
       "      <td>[Jackson, M M, Naughton-Treves, L]</td>\n",
       "      <td>12559</td>\n",
       "      <td>None</td>\n",
       "      <td>Eco-bursaries as incentives for conservation a...</td>\n",
       "      <td>None</td>\n",
       "      <td>[Kenya, attitudes, conservation, park-people r...</td>\n",
       "      <td>2012.0</td>\n",
       "      <td>Eco-bursaries as incentives for conservation a...</td>\n",
       "      <td>True</td>\n",
       "      <td>9.425974</td>\n",
       "      <td>0.995</td>\n",
       "    </tr>\n",
       "    <tr>\n",
       "      <th>6</th>\n",
       "      <td>There is no denying the close linkage between ...</td>\n",
       "      <td>[Blanco, E, Razzaque, J]</td>\n",
       "      <td>3241</td>\n",
       "      <td>None</td>\n",
       "      <td>Ecosystem services and human well-being in a g...</td>\n",
       "      <td>None</td>\n",
       "      <td>None</td>\n",
       "      <td>2009.0</td>\n",
       "      <td>Ecosystem services and human well-being in a g...</td>\n",
       "      <td>False</td>\n",
       "      <td>9.411600</td>\n",
       "      <td>0.994</td>\n",
       "    </tr>\n",
       "    <tr>\n",
       "      <th>7</th>\n",
       "      <td>Landscape ecology is in a position to become t...</td>\n",
       "      <td>[Opdam, P, Termorshuizen, J W]</td>\n",
       "      <td>25150</td>\n",
       "      <td>None</td>\n",
       "      <td>Landscape services as a bridge between landsca...</td>\n",
       "      <td>None</td>\n",
       "      <td>[Collaborative spatial planning, Ecosystem ser...</td>\n",
       "      <td>2009.0</td>\n",
       "      <td>Landscape services as a bridge between landsca...</td>\n",
       "      <td>False</td>\n",
       "      <td>9.187603</td>\n",
       "      <td>0.993</td>\n",
       "    </tr>\n",
       "    <tr>\n",
       "      <th>8</th>\n",
       "      <td>The ecological risk assessment is currently th...</td>\n",
       "      <td>[Chen, W, Gao, B, He, X, Li, X, Li, Z, Qi, S]</td>\n",
       "      <td>9561</td>\n",
       "      <td>None</td>\n",
       "      <td>Assessment of ecological risk of coastal econo...</td>\n",
       "      <td>None</td>\n",
       "      <td>[Ecological risk, Jinzhou Bay, Landscape patte...</td>\n",
       "      <td>2011.0</td>\n",
       "      <td>Assessment of ecological risk of coastal econo...</td>\n",
       "      <td>False</td>\n",
       "      <td>8.798250</td>\n",
       "      <td>0.992</td>\n",
       "    </tr>\n",
       "    <tr>\n",
       "      <th>9</th>\n",
       "      <td>Environmental perception has been drowning mor...</td>\n",
       "      <td>[Zhao, X]</td>\n",
       "      <td>28419</td>\n",
       "      <td>None</td>\n",
       "      <td>Environmental perception of farmers of differe...</td>\n",
       "      <td>None</td>\n",
       "      <td>[Environmental perception, Gannan plateau, Liv...</td>\n",
       "      <td>2012.0</td>\n",
       "      <td>Environmental perception of farmers of differe...</td>\n",
       "      <td>False</td>\n",
       "      <td>8.655191</td>\n",
       "      <td>0.991</td>\n",
       "    </tr>\n",
       "  </tbody>\n",
       "</table>\n",
       "</div>"
      ],
      "text/plain": [
       "                                            abstract  \\\n",
       "0  The patterns of forest resource use in South K...   \n",
       "1  In the Cardamom Ranges (Cambodia) community-ba...   \n",
       "2  Indigenous people have a vital role in environ...   \n",
       "3  This chapter describes how ecosystem stewardsh...   \n",
       "4  This paper presents a synthesis of grassroots ...   \n",
       "5  Incentives used to encourage local residents t...   \n",
       "6  There is no denying the close linkage between ...   \n",
       "7  Landscape ecology is in a position to become t...   \n",
       "8  The ecological risk assessment is currently th...   \n",
       "9  Environmental perception has been drowning mor...   \n",
       "\n",
       "                                         authors  citation_id  \\\n",
       "0                                    [Youn, Y C]        28123   \n",
       "1                      [Beilin, R, Lo Cascio, A]        15507   \n",
       "2                                      [Chun, J]         5842   \n",
       "3      [Chapin, F S, Seastedt, T R, Suding, K N]        23012   \n",
       "4            [Pilgrim, S, Pretty, J, Singh, R K]        23730   \n",
       "5             [Jackson, M M, Naughton-Treves, L]        12559   \n",
       "6                       [Blanco, E, Razzaque, J]         3241   \n",
       "7                 [Opdam, P, Termorshuizen, J W]        25150   \n",
       "8  [Chen, W, Gao, B, He, X, Li, X, Li, Z, Qi, S]         9561   \n",
       "9                                      [Zhao, X]        28419   \n",
       "\n",
       "  citation_screening                                      citation_text   doi  \\\n",
       "0               None  Use of forest resources, traditional forest-re...  None   \n",
       "1               None  Of biodiversity and boundaries: A case study o...  None   \n",
       "2               None  A legal approach to induce the traditional kno...  None   \n",
       "3               None  Ecosystem Stewardship as a Framework for Conse...  None   \n",
       "4               None  Traditional knowledge and biocultural diversit...  None   \n",
       "5               None  Eco-bursaries as incentives for conservation a...  None   \n",
       "6               None  Ecosystem services and human well-being in a g...  None   \n",
       "7               None  Landscape services as a bridge between landsca...  None   \n",
       "8               None  Assessment of ecological risk of coastal econo...  None   \n",
       "9               None  Environmental perception of farmers of differe...  None   \n",
       "\n",
       "                                            keywords  publication_year  \\\n",
       "0  [Accessibility, Forest resource use, Livelihoo...            2009.0   \n",
       "1  [biodiversity conservation, community-based na...            2010.0   \n",
       "2  [Common law, Indigenous people, Natural resour...            2014.0   \n",
       "3  [Ecosystem management, Ecosystem services, Eco...            2013.0   \n",
       "4  [Biocultural diversity, Conservation, Liveliho...            2010.0   \n",
       "5  [Kenya, attitudes, conservation, park-people r...            2012.0   \n",
       "6                                               None            2009.0   \n",
       "7  [Collaborative spatial planning, Ecosystem ser...            2009.0   \n",
       "8  [Ecological risk, Jinzhou Bay, Landscape patte...            2011.0   \n",
       "9  [Environmental perception, Gannan plateau, Liv...            2012.0   \n",
       "\n",
       "                                               title included  \\\n",
       "0  Use of forest resources, traditional forest-re...    False   \n",
       "1  Of biodiversity and boundaries: A case study o...    False   \n",
       "2  A legal approach to induce the traditional kno...    False   \n",
       "3  Ecosystem Stewardship as a Framework for Conse...    False   \n",
       "4  Traditional knowledge and biocultural diversit...    False   \n",
       "5  Eco-bursaries as incentives for conservation a...     True   \n",
       "6  Ecosystem services and human well-being in a g...    False   \n",
       "7  Landscape services as a bridge between landsca...    False   \n",
       "8  Assessment of ecological risk of coastal econo...    False   \n",
       "9  Environmental perception of farmers of differe...    False   \n",
       "\n",
       "   regex_match_score  regex_match_pctrank  \n",
       "0          12.029494                1.000  \n",
       "1          11.407173                0.999  \n",
       "2          10.346002                0.998  \n",
       "3           9.894718                0.997  \n",
       "4           9.823599                0.996  \n",
       "5           9.425974                0.995  \n",
       "6           9.411600                0.994  \n",
       "7           9.187603                0.993  \n",
       "8           8.798250                0.992  \n",
       "9           8.655191                0.991  "
      ]
     },
     "execution_count": 38,
     "metadata": {},
     "output_type": "execute_result"
    }
   ],
   "source": [
    "df.head(10)"
   ]
  },
  {
   "cell_type": "code",
   "execution_count": 39,
   "metadata": {
    "collapsed": false,
    "jupyter": {
     "outputs_hidden": false
    },
    "scrolled": true
   },
   "outputs": [],
   "source": [
    "# df[df['included'] == True]['citation_id']"
   ]
  },
  {
   "cell_type": "code",
   "execution_count": 40,
   "metadata": {
    "collapsed": false,
    "jupyter": {
     "outputs_hidden": false
    }
   },
   "outputs": [
    {
     "data": {
      "text/html": [
       "<div>\n",
       "<table border=\"1\" class=\"dataframe\">\n",
       "  <thead>\n",
       "    <tr style=\"text-align: right;\">\n",
       "      <th></th>\n",
       "      <th>included</th>\n",
       "      <th>regex_match_score</th>\n",
       "    </tr>\n",
       "  </thead>\n",
       "  <tbody>\n",
       "    <tr>\n",
       "      <th>included</th>\n",
       "      <td>1.000000</td>\n",
       "      <td>0.155604</td>\n",
       "    </tr>\n",
       "    <tr>\n",
       "      <th>regex_match_score</th>\n",
       "      <td>0.155604</td>\n",
       "      <td>1.000000</td>\n",
       "    </tr>\n",
       "  </tbody>\n",
       "</table>\n",
       "</div>"
      ],
      "text/plain": [
       "                   included  regex_match_score\n",
       "included           1.000000           0.155604\n",
       "regex_match_score  0.155604           1.000000"
      ]
     },
     "execution_count": 40,
     "metadata": {},
     "output_type": "execute_result"
    }
   ],
   "source": [
    "df[['included', 'regex_match_score']].corr(method='spearman')"
   ]
  },
  {
   "cell_type": "code",
   "execution_count": 43,
   "metadata": {
    "collapsed": false,
    "jupyter": {
     "outputs_hidden": false
    }
   },
   "outputs": [
    {
     "name": "stdout",
     "output_type": "stream",
     "text": [
      "\n",
      "TITLE:    Use of forest resources, traditional forest-related knowledge and livelihood of forest dependent communities: Cases in South Korea\n",
      "YEAR:     2009.0\n",
      "AUTHORS:  Youn, Y C\n",
      "ABSTRACT: The patterns of forest resource use in South Korea have been overviewed along with the forest resource availability to the forest users and in relation to the socio-economic conditions of local people. In South Korea, forest income arises more from non-timber forest products (NTFPs) and forest ecosystems services than from timber. The relationship between availability of forest resources and income of residents in mountainous villages was addressed with statistical analysis of results of household surveys conducted in Gangwon-do Province. The result indicates that the mere existence of forest resources and related cultural heritages is not enough for local communities to obtain income from forest land. Proper arrangements for local communities in accessing the forest resources and knowledge of making use of the resources is required to make the relationship constructive for people's livelihood. Joint management agreement between forest communities and the forest owner serves both parties for sustainable forest management in Korea as seen in the case of maple sap collection within Seoul National University Forests. The traditional knowledge held by local residents is of value for income generation for forest dependent communities and is considered as an integral part of sustainable forest management as seen in the case of native honey bee keeping near protected forest areas managed by the national forest authority. However, traditional cultural values may be positive or negative for ecologically sound forest management as seen in the pest management policy of the Korean government formulated based on cultural value rather than considerations of ecosystem health. © 2009 Elsevier B.V. All rights reserved.\n",
      "DOI:      None\n",
      "\n",
      "INCLUDED? False\n",
      "\n",
      "TITLE:    Of biodiversity and boundaries: A case study of community-based natural resource management practice in the Cardamom Mountains, Cambodia\n",
      "YEAR:     2010.0\n",
      "AUTHORS:  Beilin, R; Lo Cascio, A\n",
      "ABSTRACT: In the Cardamom Ranges (Cambodia) community-based natural resource management (CBNRM) is proposed by the international non-governmental organizations (NGOs) community as a natural resource management strategy to achieve the targeted outcomes associated with the protected area (PA) management plan. Local people are expected to participate in CBNRM projects such as community forestry (CF) in order that the protected area management plan can be realized. The experiences of the local people are juxtaposed against the aims of these local biodiversity projects. Overall, it is accepted by the NGOs and government agencies that communities need to be involved in the design and management of the PA and that the protection of biodiversity resources can only occur with the provision of alternatives for local livelihood options to decrease land clearing for agriculture and harvesting of wild foods and animals. This case points to a basic misalignment between biodiversity conservation and CBNRM. Participants in this study contested the meaning and usefulness of the PA and the CF projects. Their concerns were cultural, social, economic and political, exposing uneven relations of power and uncertainty associated with the long term outcomes. Participation itself required scrutiny in this situation, as did the promotion of a global biodiversity good over local understandings of place and landscape. Lessons from more than 20 years of participatory CBNRM may be used to reconfigure the CBNRM ideal, to assist planners and implementers towards an integrated approach with biodiversity values reflected in both conservation and local production systems, acknowledging that these systems are culturally constituted. © Foundation for Environmental Conservation 2010.\n",
      "DOI:      None\n",
      "\n",
      "INCLUDED? False\n",
      "\n",
      "TITLE:    A legal approach to induce the traditional knowledge of forest resources\n",
      "YEAR:     2014.0\n",
      "AUTHORS:  Chun, J\n",
      "ABSTRACT: Indigenous people have a vital role in environmental management and development because of their knowledge and traditional practices. The concept of sustainable development requires taking consideration into the legal system of traditional knowledge for the benefit of indigenous people who live in or near the forest. In modern administrative countries, the statutory legal system established by the government had almost prevailed over the common law system especially relating to management of natural resources. The statute regulating forest resources should prescribe the inherent interests to traditional knowledge of indigenous people in the forest. To endow indigenous people with inherent interests about forest resources and rights to traditional knowledge, the statute legal system and the common law system have to cooperate with each other according to the governance theory of cross-regulation. © 2012 Elsevier B.V.\n",
      "DOI:      None\n",
      "\n",
      "INCLUDED? False\n",
      "\n",
      "TITLE:    Ecosystem Stewardship as a Framework for Conservation in a Directionally Changing World\n",
      "YEAR:     2013.0\n",
      "AUTHORS:  Chapin, F S; Seastedt, T R; Suding, K N\n",
      "ABSTRACT: This chapter describes how ecosystem stewardship acts as a framework for biological conservation. Ecosystem stewardship explicitly considers humans as a 'keystone species' at regional and global scales, and often at local scales. The stewardship framework focuses on the dynamics of ecological change and the management options that influence pathways and rates of change. The goals of this framework are to sustain required ecosystem services and support human well-being as societies attempt to improve the well-being of disadvantaged segments of an ever-growing human population. Ecosystem stewardship focuses on maintaining and enhancing species that are viewed as important for a variety of ecosystem services, including cultural services. Both novel ecosystems and interventionist conservation efforts are important and compatible components for achieving this framework. The relationship between key features of ecosystem stewardship and their implications to conservation and restoration activities is also presented. © 2013 John Wiley & Sons, Ltd.\n",
      "DOI:      None\n",
      "\n",
      "INCLUDED? False\n",
      "\n",
      "TITLE:    Traditional knowledge and biocultural diversity: Learning from tribal communities for sustainable development in northeast India\n",
      "YEAR:     2010.0\n",
      "AUTHORS:  Pilgrim, S; Pretty, J; Singh, R K\n",
      "ABSTRACT: This paper presents a synthesis of grassroots activities designed to promote the learning and conservation of traditional knowledge and related biocultural resources among Adi, Monpa and Khasi tribes of northeast India. The results indicate that the participation of knowledge holders in various village level activities can enhance the promotion of traditional practices, learning of knowledge and conservation of related resources. Knowledge holders of varying age groups and social systems have many notable traditional practices that provide promising solutions to current challenges. The promotion of traditional knowledge-based products can also facilitate the conservation of resources and the subsistence survival of people. Strong multi-level networks between all stakeholders are needed to ensure the sustainability of traditional knowledge and conservation of biocultural resources of communities of northeast India. © 2010 University of Newcastle upon Tyne.\n",
      "DOI:      None\n",
      "\n",
      "INCLUDED? False\n",
      "\n",
      "TITLE:    Eco-bursaries as incentives for conservation around Arabuko-Sokoke Forest, Kenya\n",
      "YEAR:     2012.0\n",
      "AUTHORS:  Jackson, M M; Naughton-Treves, L\n",
      "ABSTRACT: Incentives used to encourage local residents to support conservation range from integrated conservation and development projects (ICDPs), which indirectly connect improved livelihoods with biodiversity protection, to direct payments for ecosystem services (PES). A unique hybrid between these two strategies, the Arabuko-Sokoke Schools and Ecotourism Scheme (ASSETS), provides secondary-school bursaries to encourage stewardship of a biodiverse highly-imperiled Kenyan forest. Household surveys and semi-structured interviews were used to assess the effectiveness of ASSETS by comparing attitudes and perceptions toward the forest among scheme beneficiaries and non-beneficiaries. The most commonly identified benefit of the forest was resource extraction (for example fuelwood), followed by ecosystem services (such as source of rain). Those in favour of forest clearing tended not to be ASSETS beneficiaries, were less-educated, and were less likely to mention ecosystem services and tourism as forest benefits. ASSETS appears to shape pro-conservation attitudes among beneficiaries and foster a sense of responsibility toward the forest. Challenges for ASSETS are similar to those faced by many conservation and development projects, namely unsteady funding and the risk that the extremely poor may be overlooked. ASSETS may serve as an effective hybrid between the PES and ICDP approaches, and such educational support provides a promising conservation incentive. © Foundation for Environmental Conservation 2012.\n",
      "DOI:      None\n",
      "\n",
      "INCLUDED? True\n",
      "\n",
      "TITLE:    Ecosystem services and human well-being in a globalized world: Assessing the role of law\n",
      "YEAR:     2009.0\n",
      "AUTHORS:  Blanco, E; Razzaque, J\n",
      "ABSTRACT: There is no denying the close linkage between ecosystem services and human well-being. Human well-being is dependent on the sustainable management of ecosystem services. With economic globalization and free trade, there is an increasing demand for these services. Yet, poverty, inefficient management of common resources, and inadequate legal and governance frameworks have a negative impact on human well-being. This article examines the impact of globalization as well as the legal mechanisms for the management of ecosystem services arguing that the need for a concerted and synergistic legal approach to manage ecosystem services in a sustainable manner that includes human rights principles alongside market-based instruments. © 2009 by The Johns Hopkins University Press.\n",
      "DOI:      None\n",
      "\n",
      "INCLUDED? False\n",
      "\n",
      "TITLE:    Landscape services as a bridge between landscape ecology and sustainable development\n",
      "YEAR:     2009.0\n",
      "AUTHORS:  Opdam, P; Termorshuizen, J W\n",
      "ABSTRACT: Landscape ecology is in a position to become the scientific basis for sustainable landscape development. When spatial planning policy is decentralised, local actors need to collaborate to decide on the changes that have to be made in the landscape to better accommodate their perceptions of value. This paper addresses two prerequisites that landscape ecological science has to meet for it to be effective in producing appropriate knowledge for such bottom-up landscape-development processes-it must include a valuation component, and it must be suitable for use in collaborative decision-making on a local scale. We argue that landscape ecological research needs to focus more on these issues and propose the concept of landscape services as a unifying common ground where scientists from various disciplines are encouraged to cooperate in producing a common knowledge base that can be integrated into multifunctional, actor-led landscape development. We elaborate this concept into a knowledge framework, the structure-function-value chain, and expand the current pattern-process paradigm in landscape ecology with value in this way. Subsequently, we analyse how the framework could be applied and facilitate interdisciplinary research that is applicable in transdisciplinary landscape-development processes. © Springer Science+Business Media B.V. 2009.\n",
      "DOI:      None\n",
      "\n",
      "INCLUDED? False\n",
      "\n",
      "TITLE:    Assessment of ecological risk of coastal economic developing zone in Jinzhou Bay based on landscape pattern\n",
      "YEAR:     2011.0\n",
      "AUTHORS:  Chen, W; Gao, B; He, X; Li, X; Li, Z; Qi, S\n",
      "ABSTRACT: The ecological risk assessment is currently the advanced method and concept to study the relationship between regional eco-environment and development, but the theoretical research on it is still in its initial phase at present. The quantitative expressions of risk receptor, risk sources and risk effect are the key problems in the theoretical system of ecology risk assessment. Regional ecological risk assessment offers scientific suggestions for ecological risk management. It is used to describe and evaluate the possibility and degree of damage that might be taken to the structure and function of ecological system by environmental pollution, human activities and natural disasters on regional scale. The human economic activities are mainly carried out on the level of landscape, therefore, landscape has become the appropriate scale to study the impact of human on environment. In the landscape dominated by human activities, the ecological effects generated by different land use patterns and intensities usually are regional and accumulative, and they will be reflected directly on the structure and composition of the ecological system. Therefore, we can assess the various potential human influences and their consequences by the structure of the ecological system. We can establish the relationship between ecological system structure and ecological influences by statistical analysis, and the results can make good help for environmental management and ecological risk decision making. Taking the coastal economic developing zone in Jinzhou Bay as studying area, using theremote sensing images of Landsat TM in 1992, 2000 and 2007 as the main date source, the ecological risk index was constructed based on the calculation of the landscape pattern indices, and the distribution level of ecological risk was mapped based on ecological risk index values by GIS and geostatistics. The ecological risk of studying area was classified into five levels, i. e. extremely low ecological risk, low ecological risk, moderate ecological risk, high ecological risk and extremely high ecological risk by relative index method. And then the temporal and spatial dynamics of ecological risk distribution were analyzed by overlying the ecological risk maps in different periods. The results show that: (1) Farmland and woodland were the dominated landscape types from 1992 to 2007, but the area decreased slightly, and the fragmentation of them increased. Residential land take the third place, and the area has increased significantly, at the same time, the connectivity also increased continuously. The area of grassland and unused land reduced year by year, and also the fragmentation increased yearly. (2) In recent 15 years, the moderate ecological risk level covered the biggest area of the study area; the area of extremely low risk and low ecological risk had no obviously change and mainly located in western hills; the area of high ecological risk increased significantly and was mainly distributed in southeast coastal zone of Xingcheng and Suizhong; because of the reduction of high ecological vulnerability, i. e. abandoned land and wetland, the area of extremely high ecological risk also decreased slightly. To obtain the sustainable development of regional land resources, the landscape pattern have to be optimized, and the connectivity of landscape patches should be increased.\n",
      "DOI:      None\n",
      "\n",
      "INCLUDED? False\n",
      "\n",
      "TITLE:    Environmental perception of farmers of different livelihood strategies: A case of Gannan Plateau\n",
      "YEAR:     2012.0\n",
      "AUTHORS:  Zhao, X\n",
      "ABSTRACT: Environmental perception has been drowning more and more attention all over the world. Through stratified random sampling survey, participatory rural appraisal and investigation of plots,117 household are investigated and sampled. Farmers are divided into three types:the farmer household, the household with combined occupation and the off farming household. Using the investigation data,the paper analyzes the environmental perception of the farmers of different livelihood strategies in the Gannan Plateau. The results show: (1)the farmers' livelihood diversification is low, the livelihood diversification index of the farmers is 1.76, and of in the pure pasturing area, the farming-pastoral area and the farming area, the non-agricultural level is higher than its predecessor, but the non-agricultural activity is mainly doing work for others; (2) the farmers′ ecological attention is high,but the cognition of ecology protection is low, the ecological attention declines from the farmer household to the household with combined occupation and then to the off farming household,the index of ecological attention is 2.80,2.72 and 2.65 respectively, but the cognition of ecology protection increases accordingly, the index of the cognition is 2.00,2.22 and 2.26 respectively; (3) The majority of interviewees (nearly 76.92 per cent) consider that the local eco-environment is worse than recent years before, the farmer household' environmental deterioration perception is the first,the secondary is the household with combined occupation,the third is the off farming household,the index of ecological change perception is 1.20,1.37 and 1.44;(4)The perception of grassland degradation and water resource shortage declines from the farmer household to the household with combined occupation and then to the off farming household;(5)The majority of interviewees (nearly 86.32 per cent) are willing to take part in the environment protection activity, the participation willing of the household with combined occupation is higher than the off farming household and the farmer household.\n",
      "DOI:      None\n",
      "\n",
      "INCLUDED? False\n",
      "\n",
      "TITLE:    The effects of communal land resource management on forest conservation in northern and north-eastern Namibia\n",
      "YEAR:     2003.0\n",
      "AUTHORS:  Watts, S\n",
      "ABSTRACT: The area under natural forests has diminished steadily while deforestation has escalated progressively in the past 10 years. Strategic constraints leading to this ever-increasing rate of forest depletion are examined, and relevant policy interventions for overturning them are suggested. Communal ownership and management of natural resources in the northern and north-eastern Namibia are identified as a major underlying constraint on natural resource conservation because the communal system lacks mechanisms for regulating access. Nonetheless, the study acknowledges the optimistic views on communal use and management in other parts of the world. The assumptions about community, the willingness of its members to realise joint environmental or social goals, and their motivation and skills for natural resource management have been challenged. The perception that communities are custodial and non-materialistic in their attitudes to natural resources is rejected. It is concluded that common resources should be brought under more formal management. There should be a state-community/private partnership, with the state performing an advisory function, and implementation at the highest level through the use of state institutions for law enforcement, while the community or the private interest undertakes day-to-day management and law enforcement activities. Maintaining state ownership of natural resources in communal areas and inviting local people to manage them on their own, or mainly on government terms, is not a solution to natural resource degradation.\n",
      "DOI:      None\n",
      "\n",
      "INCLUDED? False\n",
      "\n",
      "TITLE:    Adaptive capacity and community-based natural resource management\n",
      "YEAR:     2005.0\n",
      "AUTHORS:  Armitage, D\n",
      "ABSTRACT: Why do some community-based natural resource management strategies perform better than others? Commons theorists have approached this question by developing institutional design principles to address collective choice situations, while other analysts have critiqued the underlying assumptions of community-based resource management. However, efforts to enhance community-based natural resource management performance also require an analysis of exogenous and endogenous variables that influence how social actors not only act collectively but do so in ways that respond to changing circumstances, foster learning, and build capacity for management adaptation. Drawing on examples from northern Canada and Southeast Asia, this article examines the relationship among adaptive capacity, community-based resource management performance, and the socio-institutional determinants of collective action, such as technical, financial, and legal constraints, and complex issues of politics, scale, knowledge, community and culture. An emphasis on adaptive capacity responds to a conceptual weakness in community-based natural resource management and highlights an emerging research and policy discourse that builds upon static design principles and the contested concepts in current management practice. © 2005 Springer Science+Business Media, Inc.\n",
      "DOI:      None\n",
      "\n",
      "INCLUDED? False\n"
     ]
    }
   ],
   "source": [
    "for idx, row in df.iterrows():\n",
    "    if row['citation_screening'] and any(cs['screened_by'] == user_id for cs in row['citation_screening']):\n",
    "        print(row['citation_id'], 'already screened by you!')\n",
    "        continue\n",
    "    dict_row = row.to_dict()\n",
    "    cipy.utils.present_citation(dict_row)\n",
    "    print('\\nINCLUDED?', selection_data[row['citation_id']])\n",
    "#     print(row['citation_id'])\n",
    "#     print(row['citation_text'])\n",
    "    if idx > 10:\n",
    "        break"
   ]
  },
  {
   "cell_type": "code",
   "execution_count": 38,
   "metadata": {
    "collapsed": false,
    "jupyter": {
     "outputs_hidden": false
    }
   },
   "outputs": [
    {
     "data": {
      "text/plain": [
       "SpearmanrResult(correlation=0.19789240249525078, pvalue=2.7436948282527215e-10)"
      ]
     },
     "execution_count": 38,
     "metadata": {},
     "output_type": "execute_result"
    }
   ],
   "source": [
    "from scipy.stats import spearmanr\n",
    "\n",
    "spearmanr(df['included'].values, df['regex_match_score'].values)"
   ]
  },
  {
   "cell_type": "code",
   "execution_count": 22,
   "metadata": {
    "collapsed": false,
    "jupyter": {
     "outputs_hidden": false
    }
   },
   "outputs": [
    {
     "name": "stdout",
     "output_type": "stream",
     "text": [
      "[14653\n",
      " \"The Spaces of Social Capital: Livelihood Geographies and Marine Conservation in the Cayos Cochinos Marine Protected Area, Honduras\\\\n\\\\nThis article explores the relation between, a household's social capital, and its use of marine resources in the Cayos Cochinos Marine Reserve. Recent writings on social capital's role in facilitating community conservation efforts have highlighted the ways in which strong levels of this asset can produce positive conservation outcomes. In contrast, this paper argues that social capital formation and use at the household level can produce a geography of resource use that runs counter to the zoning-based resource restrictions that often typify co-managed conservation, areas. Drawing on ethnographic and survey work from the Cayos Cochinos Marine Protected. Area, this paper shows how marine resources help Garifuna fishing families build networks of trust and reciprocity, which in turn allows them to access marine resources and mobilize them across space in ways that are at odds with the geography of the reserve's stated management plan.\\\\n\\\\nConservation co-management, Honduras, Livelihoods, Social capital\"]\n",
      "[18905\n",
      " 'Extinction processes in hot spots of avian biodiversity and the targeting of pre-emptive conservation action\\\\n\\\\nHot spots of endemism are regarded as important global sites for conservation as they are rich in threatened endemic species and currently experiencing extensive habitat loss. Targeting pre-emptive conservation action to sites that are currently relatively intact but which would be vulnerable to particular human activities if they occurred in the future is, however, also valuable but has received less attention. Here, we address this issue by using data on Endemic Bird Areas (EBAs). First, we identify the ecological factors that affect extinction risk in the face of particular human activities, and then use these insights to identify EBAs that should be priorities for pre-emptive conservation action. Threatened endemic species in EBAs are significantly more likely to be habitat specialists or relatively large-bodied than non-threatened species, when compared across avian families. Increasing habitat loss causes a significant increase in extinction risk among habitat specialists, but we found no evidence to suggest that the presence of alien species/human exploitation causes a significant increase in extinction risk among large-bodied species. This suggests that these particular human activities are contributing to high extinction risk among habitat specialists, but not among large-bodied species. Based on these analyses, we identify 39 EBAs containing 570 species (24% of the total in EBAs) that are not currently threatened with severe habitat loss, but would be ecologically vulnerable to future habitat loss should it occur. We show that these sites tend to be poorly represented in existing priority setting exercises involving hot spots, suggesting that vulnerability must be explicitly included within these exercises if such sites are to be adequately protected.\\\\n\\\\nAlien species, Endemic bird areas, Extinction risk, Habitat loss, Human exploitatio']\n",
      "[10325\n",
      " \"Introduction of non-native freshwater fish: Is it all bad?\\\\n\\\\nRisk perceptions are important to the policy process, but there is often a well-established pattern of small risks being over assessed. This is also true with the issue of non-native freshwater fish introductions, where a great majority of research focuses on the few negative cases. The attitude towards 'non-natives' is a continually evolving process and varies according to current societal values. Here I show that on the global scale, the majority of freshwater fish introductions are not identified as having an ecological impact while having great societal benefits. Case studies from the African lakes are discussed in order to illustrate contrasting outcomes following fish introductions. Looking into the future, the environmental changes that freshwater ecosystems may encounter will have inevitable implications on the distribution of our native freshwater fish species and the need to rely on non-native introductions may become a growing reality. Aquaculture production is regularly increasing and our dependence on it is likely to become greater as it provides an important substitute for the declining production of capture fisheries. With it the number of freshwater fish introductions will increase and a more realistic attitude, albeit controversial, will need to be debated. This would mean protecting some introductions that present beneficial outcomes for biodiversity alongside a more systematic ban of species or families of fish presenting a higher historical ecological risk. The public perception of risk is something which cannot be ignored by any government or ruling body, but in order to gain public support in the fight for conservation of freshwater fish biodiversity, the message needs to be clear, detailed and educational. © 2008 The Author.\\\\n\\\\nAlien fish, Aquaculture, Biodiversity, Ecological impact, Economic value\"]\n",
      "[1501\n",
      " 'Slope aspect modifies community responses to clear-cutting in boreal forests\\\\n\\\\nSlope aspect modifies microclimate and influences ecological processes and spatial distribution of species across forest landscapes, but the impact of slope aspect on community responses to disturbance is poorly understood. Such insight is necessary to understand landscape community dynamics and resilience. We compared bryophyte (liverworts and mosses) communities in matched 0.02-ha plots of four boreal stand types in central Sweden: recently clear-felled and mature stands dominated by Norway spruce in southfacing and north-facing slopes. Differences between forests and clear-cuts were interpreted as effects of clear-cutting, and differences between south- and north-facing slopes as effects of aspect. In response to clear-cutting, bryophyte cover and composition changed more in south-facing slopes. Only one out of ten significantly declining species in south-facing slopes also declined significantly in north-facing slopes. North-facing slopes lost fewer bryophyte species, and among those, fewer forest species and fewer species associated with wood and bark. In north-facing slopes, the average proportions of mosses and liverworts shared between the forest and the clear-cut plot were 88% and 74%, respectively. Corresponding numbers for south-facing slopes were 79% and 33%. In addition, more bryophyte species were added in north- than south-facing slopes after clear-cutting, somewhat reducing the difference in compositional change between aspects. South- and north-facing mature forests differed in species composition, mostly due to higher richness of mosses in south-facing slopes. The smaller changes in bryophyte communities on north-facing slopes in response to clear-cutting have implications for ecosystem dynamics and management as high local survival may enhance landscape-level resilience. © 2007 by the Ecological Society of America.\\\\n\\\\nClear-cutting, Disturbance, Forest, Habitat quality, Liverworts, Mosses, Resilience, Slope, Species composition, Stability']\n",
      "[27707\n",
      " 'A framework for the study of zoonotic disease emergence and its drivers: Spillover of bat pathogens as a case study\\\\n\\\\nMany serious emerging zoonotic infections have recently arisen from bats, including Ebola, Marburg, SARS-coronavirus, Hendra, Nipah, and a number of rabies and rabies-related viruses, consistent with the overall observation that wildlife are an important source of emerging zoonoses for the human population. Mechanisms underlying the recognized association between ecosystem health and human health remain poorly understood and responding appropriately to the ecological, social and economic conditions that facilitate disease emergence and transmission represents a substantial societal challenge. In the context of disease emergence from wildlife, wildlife and habitat should be conserved, which in turn will preserve vital ecosystem structure and function, which has broader implications for human wellbeing and environmental sustainability, while simultaneously minimizing the spillover of pathogens from wild animals into human beings. In this review, we propose a novel framework for the holistic and interdisciplinary investigation of zoonotic disease emergence and its drivers, using the spillover of bat pathogens as a case study. This study has been developed to gain a detailed interdisciplinary understanding, and it combines cutting-edge perspectives from both natural and social sciences, linked to policy impacts on public health, land use and conservation. © 2012 The Royal Society.\\\\n\\\\nBat, Collaborative framework, Emergence, Zoonosis']\n",
      "[13060\n",
      " 'Gujjar community resettlement from Rajaji National Park, Uttarakhand, India\\\\n\\\\nThe Gujjar Rehabilitation Programme (Uttarakhand, India) is an integrated approach focusing on environmental conservation and providing better livelihood opportunities for pastoral Gujjar communities. The primary objective of this present study is to assess the response of rehabilitated Gujjar families to the resettlement Programme. Socio-economic assessments (e.g. livelihood status) of affected people at the two resettlement sites (Pathri and Gaindikhatta) were conducted. Resettled Gujjars reported enhancement of their livelihoods and many more children receiving schooling. Additionally, state government departments and several NGOs are making efforts to strengthen the prospects of Gujjar women through training and education programmes.']\n",
      "[17721\n",
      " \"Parks-people conflicts: The case of Gonarezhou National Park and the Chitsa community in south-east zimbabwe\\\\n\\\\nNational parks have been the centre piece of international conservation strategies in developing countries. The expansion in the network of national parks has enabled the conservation of biodiversity and habitats but the acquisition of vast areas into the park system has often been achieved through the displacement of resident local communities. Displaced people are exposed to a variety of impoverishment risks and this stokes up animosity towards parks. The research reported here seeks to understand the key issues involved in the occupation of a section of Gonarezhou National Park by Headman Chitsa's people. The paper examines how the interplay between the history of displacement and dispossession, demographic pressures, limited economic opportunities, the 'fast track' land reform programme and dynastic politics are fomenting the land conflict between Gonarezhou and Chitsa community. Secondary actors with diverse interests have also come into the fold. Official efforts to resolve the conflict using a top-down approach have yielded little success. This culminated in a shift towards the use of traditional mechanisms of resolving a chieftaincy dispute as a step towards addressing the broader parks-people land conflict. Lessons from the case study are, inter alia, that interventions aimed at resolving parks-people conflicts should be alive to local culture, livelihood needs and power dynamics and, to the extent possible, eschew forcible relocations. Finally, we draw attention to the need to address the wider contradiction between policies promoting wildlife conservation and those promoting agriculture. The article is written to share lessons with readers interested in parks-people conflicts. © Springer Science+Business Media B.V. 2009.\\\\n\\\\nChitsa community, Conflict, Conflict resolution mechanisms, Conservation, Displacement, Gonarezhou National Park, Impoverishment risks, Lessons learnt\"]\n",
      "[19017\n",
      " 'Gendered impacts of conservation agriculture and paradox of herbicide use among smallholder farmers\\\\n\\\\nConservation Agriculture (CA) is increasingly taking a central stage in agricultural policies and rural development among developing countries like Zambia. The challenge of gender gaps in agriculture has persisted despite efforts of gender mainstreaming. This paper assesses gender based impacts of conservation agriculture (CA) basins among smallholder farmers under the Conservation Agriculture Programme (CAP) in Zambia. Qualitative and quantitative approaches were used to collect data. Quantitative data was analysed mainly by descriptive statistics and qualitative data by thematic and content analysis. Results indicated that women and children experienced reduction in labour with respect to clearing of fields before tillage and during weeding where herbicides were used correctly. Improvement in household food security was also reported. Digging of CA basins was labour intensive and the chaka hoe was heavy for women. Labour requirement for women and children was more than for men during hand weeding. Herbicides have increased labour requirements for men because they are predominantly involved in spraying. Women needed to reduce their labour during weeding but feared that the use of herbicides would increase food insecurity during hunger peak period. This was because the use of herbicides is inconsistent with the practice of mixed cropping and selection of valuable wild vegetables that were important for food security. Results suggest that usage of herbicide such as atrazine could have health concerns that may affect women more than men. Use of herbicides raises questions as to what extent CA is environmentally sustainable. Interventions in CA need to be both gender sensitive and minimise tradeoffs between health concerns, socio-economic benefits and environmental sustainability. © Some rights reserved / Creative Commons license.\\\\n\\\\nAgricultural labour use, Food security, Gender, Herbicides, Innovation adoption, Zambia']\n",
      "[2856\n",
      " \"Historical patterns of resource exploitation and the status of papua New Guinea Coral reefs\\\\n\\\\nUnderstanding human drivers of exploitation within the context of historical baselines can assist in better management of natural resources. Retrospective studies provide insight into the scale, nature, and timing of human influence on reef ecosystems. Using Papua New Guinea as a model, we assessed human influences on the historical status of reef resources through time. Reef resources were divided into seven ecological guilds, assessed over seven cultural periods and in reference to seven types of human influences. Ranking of ecological status and human influence was performed based on extensive bibliographical research. Evidence for periods of sustainability and depletion were found throughout historical and modern periods. More recently, acceleration in the rate of resource depletion has occurred as a result of increasing pressure at unprecedented scales. Subsistence lifestyles are becoming unviable or unattractive since the introduction of the cash economy during colonial times. Current challenges such as providing livelihood options and sustaining replenishment rates of reef resources have arisen from a long history of overexploitation that preconditioned the current status of reef resources under an economic climate of increasing demand for these resources. Studies of past human exploitation of reef resources can help to overcome the shifting baseline syndrome for fisheries management in marine ecosystems and help characterize the scale and intensity of human drivers influencing resource exploitation. © 2013 by University of Hawai'i Press.\"]\n",
      "[13117\n",
      " \"Biological diversity, ecology, and global climate change\\\\n\\\\nWorldwide climate change and loss of biodiversity are issues of global scope and importance that have recently become subjects of considerable public concern. Unlike classical public health issues and many environmental issues, their perceived threat lies in their potential to disrupt ecological functioning and stability rather than from any direct threat they may pose to human health. Over the last 5 years, the international scientific community and the general public have become aware of the implications that atmospheric warming might have for world climate patterns and the resulting changes in the persistence, location, and composition of ecosystems worldwide. At the same time, awareness of the magnitude of current and impending losses of the world's biological diversity has increased. Human activities are currently responsible for a species loss rate that is the most extreme in millions of years, and an alarmingly increasing rate of transformation and fragmentation of natural landscapes. We are just beginning to grasp the meaning of this loss in terms of opportunity costs to human society and the less quantifiable losses associated with simplification of natural ecosystems. In the case of both global warming and reduction of biological diversity, man is affecting nature in an unprecedented fashion, on a global scale, and with unpredictable and frequently irreversible results.\"]\n",
      "[2204\n",
      " \"Valuing the chances of survival of two distinct Eurasian lynx populations in Poland - Do people want to keep the doors open?\\\\n\\\\nThis study investigates individuals' preferences toward protection programs aimed at increasing the chances of survival of the two distinct Eurasian lynx populations in Poland. Those two groups, the Lowland and the Carpathian population, are exposed to different risks of extinction as they have different numbers, different-sized areas of occupation and different migration possibilities. Using a discrete choice experiment we examine the influence of the initial degree of endangerment on the allocation of respondents' funds. The results show that people prefer to invest in the conservation of the lynx population, which has initially lower chances of survival. The main driver of respondents' choices seems to be loss aversion rather than the urge to invest in an option with an expected higher outcome. This observation can be interpreted as people trying to keep all the options - doors - open by devoting more funds to the more vulnerable population than to the more stable one. Employing a scale-extended latent class model allowed us to detect segments among individuals showing different types of response behavior, including a form of serial non-participation. © 2013 Elsevier Ltd.\\\\n\\\\nDiscrete choice models, Loss aversion, Lynx conservation, Scale-extended latent class model, Serial non-participation, Threatened species\"]\n",
      "[18483\n",
      " 'Why did the project fail to achieve its objectives in some villages? The experience of the Upland Settlement Project (USP) in Bangladesh\\\\n\\\\nBy sampling an upland settlement project (USP) village, this study examined why the project failed to achieve the planned objectives in some villages, and what livelihood strategies villagers (planters) have adopted to sustain their livelihoods. The paper uses data obtained by qualitative and quantitative methods. The USP was formulated with the objectives of settling 50 landless and marginal tribal families in a project village and introducing agroforestry and rubber plantations for short- and long-term socioeconomic development of planters, in a participatory manner. There are now only 15 planters in the project village and, although agroforestry has progressed well, only 30 to 40% of poor quality rubber trees remain. Planter participation in project activities was limited to wage labour, indicating that the USP failed to adequately achieve all its proposed objectives. In the face of project failure, planters have adopted diversified strategies to maintain their livelihoods. Several shortcomings caused failure of the project, such as the inability of project staff members to organize planters, failure to create awareness among planters about project benefits, lack of regular project money disbursement, sociocultural ignorance, and lack of social capital among planters. Recommendations are made for securing effective participation of local people to assure successful and sustainable project outcomes. Lessons learned will be helpful in formulating future development programmes in this country and elsewhere.\\\\n\\\\nChittagong Hill tract, Livelihoods, NGOs, Planters, Social capital, Upland settlement project']\n",
      "[4400\n",
      " \"Consistency among methods of assessing concerns about the Los Alamos National Laboratory\\\\n\\\\nIn making environmental remediation and restoration decisions, risk assessors and managers need to take into account the environmental concerns of people living around an industrial facility, as well as those residing in the general region. Yet such information is usually anecdotal rather than quantitative, and rarely compares perceptions among different alternatives methods. The concerns of individuals living in Santa Fe, NM, near the Department of Energy's Los Alamos National Laboratory (LANL) were characterized. On an open-ended question, the public's greatest concerns were for contamination (35%), ecological health (16%), and human health (14%). When asked to rate their level of concern from a list of possible concerns, people rated accidents/ spills and storage of additional nuclear material the highest, and changes in property values the lowest. Unexpectedly, ethnicity, education, and income did not explain variations in ratings for most concerns about LANL. There was generally agreement between the concerns expressed on the ratings and on the open-ended question, although on the latter individuals expressed concern for larger issues, rather than specific issues. Preferences for future land use reflected their concerns for maintaining a safety buffer of an ecosystem around the site.\"]\n",
      "[11099\n",
      " \"From hominoid to hominid mind: What changed and why?\\\\n\\\\nThe living great apes, and in particular members of the genus Pan, help test hypotheses regarding the cognitive skills of our extinct common ancestor. Research with chimpanzees suggests that we share some but not all of our abilities to model another's perspective in social interactions. Large-scale comparisons among human infants, bonobos, chimpanzees, and orangutans on both social and physical problem-solving tasks demonstrate that human infants are unique for their early emerging social cognitive skills, which facilitate participation in cultural interactions. Comparisons between bonobos and chimpanzees also reveal cognitive differences that are likely due to developmental shifts. These comparative studies suggest that our species' capabilities to assess the psychological states of others are built on those abilities that were present in our last common ape ancestor and were derived, in part, owing to shifts in cognitive ontogeny that likely account for species differences among other apes as well. © 2011 by Annual Reviews. All rights reserved.\\\\n\\\\nBonobo, Chimpanzee, Human cognitive evolution, Social cognition, Theory of mind\"]\n",
      "[18634\n",
      " 'Global discourses and the local impacts in Amazonia. Inclusion and exclusion processes in the Rio Negro region\\\\n\\\\nIn the course of the climate change discussions, Amazonia, as the worlds largest continuous rain forest area, has achieved international attention. The significant role of the Amazon rain forest as the \"green lung of the world\\'s climate\" and its importance as an almost inexhaustible archive of biogenetic resources for the future development of the planet earth, are constantly accented. The conservation of rain forests is often spoken of in the same breath as the protection of indigenous peoples, and partially even put on the same level. The example of the Rio Negro region demonstrates clearly, how global discourses on climate change, the protection of forests and indigenous people are reflected on the local level via transmission tapes of unbalanced power relations. Forced by the powerful international discourses on these items, national discourses and regional policies concerning Amazonia have been shifted. Social groups, who are not dearly regarded as indigenous peoples or who do not match to the image of traditional, ecologically adapted ways of life, are largely ignored by the great variety of promotion instruments, as well as by national and international actors. In this way, international discourses define local life courses and decide what is \"good\" and \"bad\" or \"right\" and \"wrong\". But, they do not embrace the complex reality of Amazonia and threaten the livelihoods of excluded social groups in peripheral regions.\\\\n\\\\nAmazonia, Comunidades caboclas, Environmental discourses, Inclusion and exclusion processes, Indigenous people, Latin America']\n",
      "[23292\n",
      " 'Science and technology for water purification in the coming decades\\\\n\\\\nOne of the most pervasive problems afflicting people throughout the world is inadequate access to clean water and sanitation. Problems with water are expected to grow worse in the coming decades, with water scarcity occurring globally, even in regions currently considered water-rich. Addressing these problems calls out for a tremendous amount of research to be conducted to identify robust new methods of purifying water at lower cost and with less energy, while at the same time minimizing the use of chemicals and impact on the environment. Here we highlight some of the science and technology being developed to improve the disinfection and decontamination of water, as well as efforts to increase water supplies through the safe re-use of wastewater and efficient desalination of sea and brackish water. ©2008 Nature Publishing Group.']\n",
      "[17980\n",
      " 'Identification, assessment and management of food-related microbiological hazards: historical, fundamental and psycho-social essentials\\\\n\\\\nMicrobiological risk assessment aimed at devising measures of hazard management, should take into account all perceived hazards, including those not empirically identified. It should also recognise that safety cannot be \"inspected into\" a food. Rather hazard management should be the product of intervention strategies in accordance with the approach made mandatory in the EU Directive 93/43 and the USDA FSIS Pathogen Reduction HACCP system; Final Rule. It is essential too that the inherent variability of the biological attributes affecting food safety is recognised in any risk assessment. The above strategic principles may be conceptualised as a four-step sequence, involving (i) identification and quantification of hazards; (ii) design and codification of longitudinally integrated (\"holistic\") technological processes and procedures to eliminate, or control growth and metabolism of, pathogenic and toxinogenic organisms; (iii) elaboration of microbiological analytical standard operating procedures, permitting validation of \"due diligence\" or responsible care, i.e. adherence to adopted intervention strategies. This should be supported by empirically assessed reference ranges, particularly for marker organisms, while the term \"zero tolerance\" is refined throughout to tolerable safety limit; (iv) when called for, the need to address concerns arising from lay perceptions of risk which may lack scientific foundation. In relation to infectious and toxic hazards in the practical context the following general models for quantitative holistic risk assessment are presented: (i) the first order, basic lethality model; (ii) a second approximation taking into account the amount of food ingested in a given period of time; (iii) a further adjustment accounting for changes in colonization levels during storage and distribution of food commodities and the effects of these on proliferation of pathogens and toxin production by bacteria and moulds. Guidelines are provided to address: (i) unsubstantiated consumer concern over the wholesomeness of foods processed by an innovative procedure; and (ii) reluctance of small food businesses to adopt novel strategies in food safety. Progress here calls for close cooperation with behavioural scientists to ensure that investment in developing measures to contain risk deliver real benefit.']\n",
      "[14161\n",
      " \"Linking two opposites of pregnancy loss: Induced abortion and infertility in Yoruba society, Nigeria\\\\n\\\\nInvoluntary infertility and induced abortion exist on opposite sides of the spectrum: the first being the unwanted loss of childbearing potential while the second is the intentional termination of pregnancy. However, this paper proposes that these two poles of pregnancy loss are in fact related in Yoruba society, Nigeria. This argument is supported by qualitative and quantitative data drawn from an applied research project in communities and health institutions of Lagos State, from 1996 to 1999, where a total of 693 women recounted 1114 personal abortion experiences, and 233 women shared their experiences of fertility problems. Study statistics show that 37% of secondary infertility was most probably the result of induced abortion and that half of women with abortion complications interviewed in a referral hospital will have fertility problems. This paper provides insight into the reasons why single and married women decide to abort, and use unsafe methods, despite awareness of the serious health risks, including infertility. This is paradoxical given that fear of infertility is a major reason why women do not use modern contraceptives when trying to prevent unwanted pregnancy. By analysing the relations between infertility and abortion within the socio-cultural, economic, and services-related structures that influence women's decisions, this paper suggests ways of addressing the problems related to both types of pregnancy loss. © 2010 Elsevier Ltd.\"]\n",
      "[11453\n",
      " 'Comprehensive design of cyber physical systems\\\\n\\\\nIn recent years there has been a confluence between different fields addressing the broad field of embedded computer systems (cyber-physical systems). Traditional 8-bit microcontroller-based systems have become more capable and frequently feature 32-bit processors with networking capabilities, thus overlapping larger OS-based systems. Single-board OS-based computers have shrunk to credit-card size and prices on the low end have dropped substantially to overlap the application domain of microcontroller systems and, thirdly, mobile platforms (smartphones, tablets, ereaders etc.) also share many characteristics of these systems and overlap their design and application domains. These systems each have their own design communities, tools and standard approaches. However their commonality and overlapping application domains indicate that they share common design problems. The evolution into newer application areas also brings new problems. The situation becomes more complex when these systems are integrated into larger diverse systems. Design approaches and design problems for these different types of embedded system are reviewed. Overlapping and nonoverlapping characteristics and design issues are analyzed. A comprehensive design approach tailored to these cyber-physical systems is proposed. The comprehensive approach addresses design issues for all three of the overlapping fields. It also includes factors sometimes neglected when systems are developed within their own narrower design domains. One of the findings of this investigation is that design in this domain requires a diverse set of skills, usually only found in multi-disciplinary teams. One discipline that is needed but has not traditionally contributed much in this domain is Information Technology. Another finding is that designers trained in the IT discipline with a systems-oriented approach have design skills that are necessary for successful design of these diverse systems. Copyright 2012 ACM.\\\\n\\\\nCyber-physical systems, Design, Embedded systems, Information technology, Project management']\n",
      "[13856\n",
      " 'Enhancing fish stocks with wave-powered artificial upwelling\\\\n\\\\nOcean fisheries are declining worldwide due to overexploitation. Productivity could be enhanced and the problem alleviated by pumping nutrient-rich deep ocean water (DOW) to the surface to feed phytoplankton, the bottom end of a marine food chain, mimicking natural upwelling which sustains the most productive ocean fishing grounds in the world. Various pump types and power sources have been proposed for this purpose. The present article proposes a simple wave-powered pump to demonstrate the concept cost-effectively at prototype scale. Possible solutions to the problems of dilution and plunging of dense, nutrient-rich DOW are discussed. Two further possible benefits of this proposal are discussed: by extracting wave energy, relatively calm fishing grounds may be created close to markets, and by pumping up very large quantities of cold DOW, the surface temperature could be lowered enough to reduce coral bleaching on parts of the Great Barrier Reef. © 2003 Elsevier Ltd. All rights reserved.']\n"
     ]
    }
   ],
   "source": [
    "for citation in itertoolz.take_nth(50, df[['citation_id', 'citation_text']].values):\n",
    "    print(citation)"
   ]
  },
  {
   "cell_type": "code",
   "execution_count": 118,
   "metadata": {
    "collapsed": false,
    "jupyter": {
     "outputs_hidden": false
    }
   },
   "outputs": [
    {
     "name": "stdout",
     "output_type": "stream",
     "text": [
      "192\n",
      "citation_id                                                           15153\n",
      "citation_text             Ecological protection and well-being\\n\\nBased ...\n",
      "match_fraction                                                     0.238359\n",
      "match_fraction_pctrank                                                0.999\n",
      "regex_match_score                                                   2.25139\n",
      "regex_match_pctrank                                                       1\n",
      "Name: 192, dtype: object\n"
     ]
    }
   ],
   "source": [
    "for foo, bar in df.iterrows():\n",
    "    print(foo)\n",
    "    print(bar)\n",
    "    break"
   ]
  },
  {
   "cell_type": "code",
   "execution_count": 114,
   "metadata": {
    "collapsed": false,
    "jupyter": {
     "outputs_hidden": false
    },
    "scrolled": true
   },
   "outputs": [
    {
     "data": {
      "text/plain": [
       "[{'citation_id': 15153,\n",
       "  'citation_text': \"Ecological protection and well-being\\n\\nBased on Sen's function approach, this paper stated the connotation of the well-being, and defined that the freedom choice and capability of the human is the connotation of the human well-being on ecosystem services, while the poverty is the limited for capability and development of the human. Ecosystem degradation and destruction will seriously threat to human well-being, especially the well-being of the poor. Conservation of biodiversity can contribute to the protection of ecosystem services, which as the core of the ecosystem, and then improve the well-being of human. Focused on the well-being of the poor whom strongly dependent on ecosystem services and effective implemented ecological compensation, that can achieve a win-win between ecological protection and human well-being improvement.\\n\\nBiodiversity, Ecosystem services, Human well-being, Poverty\"},\n",
       " {'citation_id': 12152,\n",
       "  'citation_text': 'The potential impact of labor choices on the efficacy of marine conservation strategies\\n\\nConservation of marine resources is critical to the wellbeing of human communities. Coastal artisanal fishing communities are particularly reliant on marine resources for food and for their livelihoods. Management actions aimed at marine conservation may lead to unanticipated changes in human behavior that influence the ability of conservation programs to achieve their goals. We examine how marine conservation strategies may impact labor decisions that influence both the ecosystem and human livelihoods using simulation modeling. We consider two conservation strategies in the model: direct action through fisheries regulation enforcement, and indirect action through land conservation. Our results indicate that both strategies can increase the abundance of fish, and thus contribute to the maintenance of marine resources. However, our results also show that marine fisheries enforcement may negatively impact the livelihoods of human communities. Land conservation, on the other hand, potentially enhances the livelihood of the human populations. Thus, depending on management objectives, indirect or a combination of direct and indirect conservation strategies may be effective at achieving conservation and sustainability goals. These results highlight the importance of accounting for changes in human behavior resulting from management actions in conservation and management. © 2011 Hughes et al.'},\n",
       " {'citation_id': 7511,\n",
       "  'citation_text': 'Biodiversity loss threatens human well-being'},\n",
       " {'citation_id': 23493,\n",
       "  'citation_text': 'Integrating Vulnerability Into Estuarine Conservation Planning: Does the Data Treatment Method Matter?\\n\\nProtected areas will more efficiently protect biodiversity if threats to the persistence of populations are addressed. Seagrass meadows are globally regarded as critical habitats because of their ecosystem services, human use values, and their diminishing extent. While selecting priority areas for conservation of seagrass meadows is largely aimed at maximizing the protection of their biodiversity, little attention is paid to consider simultaneously the representation of biodiversity and the minimization of threats. This study developed and tested an approach for integrating vulnerability of seagrass meadows to anthropogenic disturbance with the selection of estuarine-protected areas. Vulnerability was measured by data on different land use types in subcatchments. Conservation value was measured by irreplaceability, diversity indices, and rarity of macroinvertebrate species in seagrass meadows. Vulnerability was incorporated into conservation planning by plotting grid cell scores for conservation value versus their scores for vulnerability. The results showed that the performance of the model for the integration of vulnerability into estuarine conservation planning was sensitive to the data treatment. The vulnerability of seagrass meadows and accordingly the arrangement of priority areas for conservation and management attention may change if more information is incorporated into the measurement of vulnerability. © 2012 Coastal and Estuarine Research Federation.\\n\\nConservation measure, Human use, Irreplaceability, Reserve selection, Seagrass, Vulnerability measure'},\n",
       " {'citation_id': 25340,\n",
       "  'citation_text': 'Role of social capital in determining conservation attitude: A case study from Cat Tien National Park, Vietnam\\n\\nThe Cat Tien National Park (CTNP) is located in South Vietnam. This park is home to many rare and endemic species. However, Park resources face heavy anthropogenic pressure and some species are vulnerable to extinction. In this context, this study assesses the efficacy of social capital and other socio-economic variables in influencing conservation attitude of local people towards CTNP resources. Using suitable survey tools and regression analysis, we find social capital to be a significant determinant of the overall conservation attitude of locals. All components of social capital, except trust, are significant in explaining one or more indicators of conservation attitude. Among socio-economic variables, education, income and ethnic groups were significant in explaining the overall conservation attitude. We suggest that participatory conservation programmes should incorporate suitable actions for promoting social capital among local people as a part of their institution-building efforts. This may improve institutional stability leading to better resource conservation and improved welfare of local people. © 2011 Taylor & Francis.\\n\\nConservation attitude, Protected areas, Social capital, Socio-economic variables, South Vietnam'},\n",
       " {'citation_id': 28135,\n",
       "  'citation_text': \"The emergence of biodiversity conflicts from biodiversity impacts: Characteristics and management strategies\\n\\nConflicts between the conservation of biodiversity and other human activities occur in all habitats and can impact severely upon socio-economic and biological parameters. In a changing environment, with increasing pressure on ecosystem goods and services and increasing urgency for biodiversity conservation, these conflicts are likely to increase in importance and magnitude and negatively affect biodiversity and human well-being. It is essential, however, to better understand what is meant by 'biodiversity conflicts' in order to develop ways to manage these effectively. In view of the complexity of the social and ecological contexts of conflicts, this paper explores 'biodiversity impacts' linked to agricultural, forestry and other sectoral activities in the UK. The paper then describes the transition from 'biodiversity impacts' to 'biodiversity conflicts', illustrating this concept with specific examples. While generalisations relating to conflict management are made difficult by their unique contextual settings, this paper suggests approaches for their management, based on the experiences of scientists who have been involved in managing conflicts. We consider the role of science and scientists; trust and dialogue; and temporal and spatial scales in biodiversity conflicts and highlight the combined role they play in successful biodiversity conflict management. Recommendations are also made for future research on biodiversity conflicts in a changing environment. © 2010 Springer Science+Business Media B.V.\\n\\nAgriculture, Biodiversity conflicts, Biodiversity impacts, Conflict management, Conservation policy, Forestry, Livelihoods, Participation, Predator management, Sustainability\"},\n",
       " {'citation_id': 5174,\n",
       "  'citation_text': 'Tools for a better integrated coastal zone management\\n\\nOver the last decades, increasing human densities and environmental degradations led to severe coastal problems. Resulting from numerous natural and human factors, they require global and integrated methods. The aim of this paper is to propose two management tools which were tested on the main-island of Seychelles (Mahe): a method of beach rating and a coastal vulnerability index.\\n\\nBeach rating, Integrated coastal zone management, Seychelles, Vulnerability index'},\n",
       " {'citation_id': 21156,\n",
       "  'citation_text': \"Indigenous ecological knowledge, biodiversity and sustainable development in the central Himalayas\\n\\nThe paper has looked at traditional systems of forestry and agricultural system management in the central himalayan region. Based on a detailed analysis of traditional ecological knowledge that is linked with biodiversity, natural and human-managed, various possibilities for sustainable management of natural resources, with concerns for sustainable livelihood of local communities have been explored for the Garhwal region in the central Himalayas It is concluded that if the development interests of local people are marginalized for a long period of time, they might adopt actions detrimental to the goal of conservation. Capitalizing on the positive dimensions of traditional knowledge and overcoming its negative dimensions through conventional science-based inputs could ease the difficult process of securing people's participation in environmental conservation together with the socio-economic development of local communities.\\n\\nBiodiversity, Natural resource management, Rehabilitation ecology, Sustainable livelihood, Traditional knowledge and technology\"},\n",
       " {'citation_id': 20413,\n",
       "  'citation_text': \"Linking biodiversity indicators, ecosystem functioning, provision of services and human well-being in estuarine systems: Application of a conceptual framework\\n\\nAssuming that human well-being strongly relies on the services provided by well-functioning ecosystems, changes in the ecological functioning of any system can have direct and indirect effects on human welfare. Intensive land use and tourism have expanded in recent decades along coastal ecosystems, together with increasing demands for water, food and energy; all of these factors intensify the exploitation of natural resources. Many of the interrelations between ecosystem functioning and the provision of ecosystem services (ES) still require quantification in estuarine systems. A conceptual framework to assess such links in a spatially and temporally explicit manner is proposed and applied to the Mondego estuary (Portugal). This framework relies on three consecutive steps and discriminates among biodiversity structural components, ecosystem functioning and stability and the services provided by the ecosystem. Disturbances in abiotic factors were found to have a direct effect on biodiversity, ecosystem functioning and the provision of ES. The observed changes in the species composition of communities had a positive effect on the ecosystem's productivity and stability. Moreover, the observed changes in the estuarine ES provision are likely to arise from changing structural and abiotic factors and in the present case from the loss or decline of locally abundant species. This study also indicates that linear relationships between biodiversity, ecosystem functioning and services provision are unlikely to occur in estuarine systems. Instead, cumulative and complex relations are observed between factors on both temporal and spatial scales. In this context, the results suggest several additional conclusions: (1) biodiversity and ecosystem functioning interaction with human well-being need to be incorporated into decision-making processes aimed at the conservative management of systems; (2) the institutional use of research results must be part of the design and implementation of sustainable management activities; and (3) more integrative tools/studies are required to account for the interactions of estuarine ecosystems with surrounding socio-economic activities. Therefore, when performing integrated assessments of ecosystem dynamics, it becomes essential to consider not only the effects of biodiversity and ecosystem functioning on services provision but also the effects that human well-being and ES provision may have on estuarine biodiversity and ecosystem functioning. The proposed framework implies taking into account both the functional and the commodities points of view upon natural ecosystems and by this representing a line of thought which will deserve further research to explore more in detail the conceptual links between biodiversity-ecosystem functioning-services provided. © 2013 Elsevier B.V. All rights reserved.\\n\\nBiodiversity-Ecosystem functioning, Ecosystem approach, Ecosystem services, Estuaries, Holistic approach\"},\n",
       " {'citation_id': 18485,\n",
       "  'citation_text': 'Forest Villagers in Northeastern Hill Forests of Bangladesh: Examining Their Livelihoods, Livelihood Strategies and Forest Conservation Linkages\\n\\nEven though many forest villagers have been living on forest department land and serving the department in the northeastern hill forests region of Bangladesh since the early 1950s, their livelihood has not yet been fully explored. This paper examines the livelihoods of forest villagers (Khasia ethnic people) and their contribution to forest conservation, using data from the Sylhet forest division. The forest villagers are well-endowed with all the elements of a sustainable livelihoods framework, though human capital in terms of education is not satisfactory. Strong social capital, stable natural capital and a productive market-oriented agroforestry system facilitate the generation of financial and physical capital that make the livelihoods of Khasia people sustainable. At the same time, their reciprocal contributions in terms of forest protection and plantation development support forest conservation. However, some institutional issues such as insecure land tenure with regular agreement renewal problems need to be resolved for the sake of their livelihoods and forest conservation. Lessons learned from the study can be utilized in formulating future participatory forest management schemes in the country. © 2013 Steve Harrison, John Herbohn.\\n\\nAgroforestry, Betel leaf, Forest conservation, Khasia, Livelihood capital'}]"
      ]
     },
     "execution_count": 114,
     "metadata": {},
     "output_type": "execute_result"
    }
   ],
   "source": [
    "json.loads(df[['citation_id', 'citation_text']].head(10).to_json(orient='records'))"
   ]
  },
  {
   "cell_type": "code",
   "execution_count": 74,
   "metadata": {
    "collapsed": false,
    "jupyter": {
     "outputs_hidden": false
    }
   },
   "outputs": [
    {
     "data": {
      "text/html": [
       "<div>\n",
       "<table border=\"1\" class=\"dataframe\">\n",
       "  <thead>\n",
       "    <tr style=\"text-align: right;\">\n",
       "      <th></th>\n",
       "      <th>authors</th>\n",
       "      <th>citation_id</th>\n",
       "      <th>citation_text</th>\n",
       "      <th>publication_year</th>\n",
       "      <th>match_fraction</th>\n",
       "    </tr>\n",
       "  </thead>\n",
       "  <tbody>\n",
       "    <tr>\n",
       "      <th>375</th>\n",
       "      <td>[Materka, E]</td>\n",
       "      <td>16607</td>\n",
       "      <td>Poland's quiet revolution: Of Shale Ga s explo...</td>\n",
       "      <td>2012.0</td>\n",
       "      <td>0.0</td>\n",
       "    </tr>\n",
       "    <tr>\n",
       "      <th>469</th>\n",
       "      <td>[Cairns Jr, J]</td>\n",
       "      <td>4672</td>\n",
       "      <td>Ecosocietal restoration: Reestablishing humani...</td>\n",
       "      <td>1995.0</td>\n",
       "      <td>0.0</td>\n",
       "    </tr>\n",
       "    <tr>\n",
       "      <th>902</th>\n",
       "      <td>[Rabino, I]</td>\n",
       "      <td>20948</td>\n",
       "      <td>The impact of activist pressures on recombinan...</td>\n",
       "      <td>1991.0</td>\n",
       "      <td>0.0</td>\n",
       "    </tr>\n",
       "    <tr>\n",
       "      <th>417</th>\n",
       "      <td>[Kathirgamanathan, P, McKibbin, R, McLachlan, ...</td>\n",
       "      <td>13423</td>\n",
       "      <td>Inverse Modelling for Identifying the Origin a...</td>\n",
       "      <td>2003.0</td>\n",
       "      <td>0.0</td>\n",
       "    </tr>\n",
       "    <tr>\n",
       "      <th>433</th>\n",
       "      <td>[Kuuskraa, Vello A]</td>\n",
       "      <td>14442</td>\n",
       "      <td>A program to accelerate the deployment of CO2 ...</td>\n",
       "      <td>2007.0</td>\n",
       "      <td>0.0</td>\n",
       "    </tr>\n",
       "  </tbody>\n",
       "</table>\n",
       "</div>"
      ],
      "text/plain": [
       "                                               authors  citation_id  \\\n",
       "375                                       [Materka, E]        16607   \n",
       "469                                     [Cairns Jr, J]         4672   \n",
       "902                                        [Rabino, I]        20948   \n",
       "417  [Kathirgamanathan, P, McKibbin, R, McLachlan, ...        13423   \n",
       "433                                [Kuuskraa, Vello A]        14442   \n",
       "\n",
       "                                         citation_text  publication_year  \\\n",
       "375  Poland's quiet revolution: Of Shale Ga s explo...            2012.0   \n",
       "469  Ecosocietal restoration: Reestablishing humani...            1995.0   \n",
       "902  The impact of activist pressures on recombinan...            1991.0   \n",
       "417  Inverse Modelling for Identifying the Origin a...            2003.0   \n",
       "433  A program to accelerate the deployment of CO2 ...            2007.0   \n",
       "\n",
       "     match_fraction  \n",
       "375             0.0  \n",
       "469             0.0  \n",
       "902             0.0  \n",
       "417             0.0  \n",
       "433             0.0  "
      ]
     },
     "execution_count": 74,
     "metadata": {},
     "output_type": "execute_result"
    }
   ],
   "source": [
    "df.tail()"
   ]
  },
  {
   "cell_type": "code",
   "execution_count": 70,
   "metadata": {
    "collapsed": false,
    "jupyter": {
     "outputs_hidden": false
    }
   },
   "outputs": [
    {
     "data": {
      "text/plain": [
       "'{\"authors\":[\"Moorthy, A L\",\"Pant, A\"],\"citation_id\":19718,\"citation_text\":\"Knowledge management and safeguarding Indian traditional knowledge\\\\n\\\\nTraditional knowledge (TK) is the knowledge base of a particular society or community which has been generated over a period of time through the process of learning and sharing by its members. TK is time tested and has been playing a vital role in sustainable development of the indigenous communities. Commercialization of biodiversity and traditional knowledge has increased the threat of misappropriation. Indian cultural and scientific heritage is discussed in this paper. Proper KM practices are required to tap that knowledge. This paper highlights the need to develop an Indigenous Knowledge Management System (IKMS) for indigenous communities which should document the knowledge heritage (without jeopardizing local culture, societal practices, IPRs, etc.) and it should also improve the process of adaptation, adoption and experimentation of the traditional knowledge. To develop an IKMS, various types of knowledge management tools and platforms are discussed. This paper also highlights the major issues\\\\/challenges in management of traditional knowledge.\\\\n\\\\nIndian scientific heritage, Indigenous knowledge management system (IKMS), Knowledge management, Traditional knowledge\",\"publication_year\":2013.0}'"
      ]
     },
     "execution_count": 70,
     "metadata": {},
     "output_type": "execute_result"
    }
   ],
   "source": [
    "df.ix[318, :].to_json()"
   ]
  },
  {
   "cell_type": "code",
   "execution_count": 10,
   "metadata": {
    "collapsed": false,
    "jupyter": {
     "outputs_hidden": false
    }
   },
   "outputs": [
    {
     "name": "stdout",
     "output_type": "stream",
     "text": [
      "CPU times: user 8min 18s, sys: 2.96 s, total: 8min 21s\n",
      "Wall time: 8min 21s\n"
     ]
    }
   ],
   "source": [
    "%%time\n",
    "records = pgdb.run_query(query, {'review_id': review_id})\n",
    "text_stream, metadata_stream = textacy.fileio.split_content_and_metadata(records, 'text', itemwise=False)\n",
    "\n",
    "# corpus = textacy.TextCorpus.from_texts('en', text_stream, metadata=metadata_stream)\n",
    "\n",
    "spacy_pipeline = textacy.data.load_spacy('en')#, parser=False)\n",
    "corpus = textacy.TextCorpus(spacy_pipeline)\n",
    "for text, metadata in zip(text_stream, metadata_stream):\n",
    "    corpus.add_text(text, lang='en', metadata=metadata)\n",
    "corpus"
   ]
  },
  {
   "cell_type": "code",
   "execution_count": null,
   "metadata": {
    "collapsed": true,
    "jupyter": {
     "outputs_hidden": true
    }
   },
   "outputs": [],
   "source": []
  },
  {
   "cell_type": "code",
   "execution_count": 7,
   "metadata": {
    "collapsed": false,
    "jupyter": {
     "outputs_hidden": false
    }
   },
   "outputs": [
    {
     "name": "stdout",
     "output_type": "stream",
     "text": [
      "CPU times: user 1min 58s, sys: 1.83 s, total: 2min\n",
      "Wall time: 2min\n"
     ]
    }
   ],
   "source": [
    "%%time\n",
    "records = pgdb.run_query(query, {'review_id': review_id})\n",
    "text_stream, metadata_stream = textacy.fileio.split_content_and_metadata(records, 'text', itemwise=False)\n",
    "\n",
    "# corpus = textacy.TextCorpus.from_texts('en', text_stream, metadata=metadata_stream)\n",
    "\n",
    "spacy_pipeline = textacy.data.load_spacy('en', parser=False)\n",
    "corpus = textacy.TextCorpus(spacy_pipeline)\n",
    "for text, metadata in zip(text_stream, metadata_stream):\n",
    "    corpus.add_text(text, lang='en', metadata=metadata)\n",
    "corpus"
   ]
  },
  {
   "cell_type": "code",
   "execution_count": 8,
   "metadata": {
    "collapsed": false,
    "jupyter": {
     "outputs_hidden": false
    }
   },
   "outputs": [
    {
     "data": {
      "text/plain": [
       "TextCorpus(28343 docs; 7806511 tokens)"
      ]
     },
     "execution_count": 8,
     "metadata": {},
     "output_type": "execute_result"
    }
   ],
   "source": [
    "corpus"
   ]
  },
  {
   "cell_type": "code",
   "execution_count": 37,
   "metadata": {
    "collapsed": false,
    "jupyter": {
     "outputs_hidden": false
    }
   },
   "outputs": [],
   "source": [
    "match_fractions = []\n",
    "\n",
    "for doc in corpus:\n",
    "    if not doc.text:\n",
    "        match_fractions.append(0.0)\n",
    "        continue\n",
    "    match_fractions.append(\n",
    "        sum(len(match.group()) for match in keyterms_re.finditer(doc.text)) / len(doc.text))"
   ]
  },
  {
   "cell_type": "code",
   "execution_count": 46,
   "metadata": {
    "collapsed": false,
    "jupyter": {
     "outputs_hidden": false
    }
   },
   "outputs": [
    {
     "data": {
      "text/plain": [
       "array([ 3931, 23503, 14842, ..., 10493, 10513,     0])"
      ]
     },
     "execution_count": 46,
     "metadata": {},
     "output_type": "execute_result"
    }
   ],
   "source": [
    "match_fraction_idxs = np.argsort(match_fractions)[::-1]\n",
    "match_fraction_idxs"
   ]
  },
  {
   "cell_type": "code",
   "execution_count": 49,
   "metadata": {
    "collapsed": false,
    "jupyter": {
     "outputs_hidden": false
    },
    "scrolled": true
   },
   "outputs": [
    {
     "name": "stdout",
     "output_type": "stream",
     "text": [
      "\n",
      "\n",
      "Cultural erosion and biodiversity: Canoe-making knowledge in Pohnpei, Micronesia\n",
      "\n",
      "Erosion of traditional knowledge and practice is a serious and accelerating problem, but quantitative work on traditional knowledge loss and its importance to biodiversity conservation is lacking. We investigated traditional knowledge of canoe making, a skill heavily dependent on plant biodiversity, on Pohnpei, Federated States of Micronesia, through a survey of 180 island residents. Our results showed that there has been an intergenerational erosion of canoe-making skills. Given current trends, the present generation of Pohnpeians may be the last to retain any knowledge of this traditional craft. We also identified several correlates of knowledge loss - including Western educational level and occupation - that highlight potential avenues for skill conservation via governments, traditional leadership, and schools. These institutions could intervene to emphasize traditional knowledge, which would reinforce institutional contexts in which traditional knowledge and practice is valued. The heightened awareness of the value of biodiversity that is linked to traditional knowledge is key to biological conservation on Pohnpei and can help support local conservation programs. © 2007 Society for Conservation Biology.\n",
      "\n",
      "\n",
      "Historic marine invertebrate species inventory: Case study of a science baseline towards establishing a marine conservation area\n",
      "\n",
      "(1) Assessing species diversity is a basic requirement for conservation, and protecting biodiversity is a major goal of marine area conservation. (2) A case study is presented on the development of a literature-based (1870s to 2000), museum collection-based, georeferenced inventory of marine invertebrate species of the Haida Gwaii (Queen Charlotte Islands) region, Canada. (3) Database structure and quality assurance are described, along with including indigenous people's words for species towards using traditional knowledge within cooperative marine conservation area management. (4) The utility of this type of inventory is proposed as a starting point for gathering regional biodiversity knowledge, and facilitating addition of other knowledge types, towards marine area conservation. © 2009 John Wiley & Sons, Ltd.\n",
      "\n",
      "\n",
      "Ecological protection and well-being\n",
      "\n",
      "Based on Sen's function approach, this paper stated the connotation of the well-being, and defined that the freedom choice and capability of the human is the connotation of the human well-being on ecosystem services, while the poverty is the limited for capability and development of the human. Ecosystem degradation and destruction will seriously threat to human well-being, especially the well-being of the poor. Conservation of biodiversity can contribute to the protection of ecosystem services, which as the core of the ecosystem, and then improve the well-being of human. Focused on the well-being of the poor whom strongly dependent on ecosystem services and effective implemented ecological compensation, that can achieve a win-win between ecological protection and human well-being improvement.\n",
      "\n",
      "\n",
      "Ecosystem services, biodiversity, and the millennium development goals\n",
      "\n",
      "Ecosystem services are essential for human well-being. The chapter explores the linkages between ecosystems and ecosystem services, biodiversity, and the Millennium Development Goals. Specifically, it focuses on the discussions in the Millennium Ecosystem Assessment, the ecosystem approach within the framework of the Convention on Biological Diversity, and ecosystems' role in the achievement of specific targets of the Millennium Development Goals. It highlights the need for ecosystem-based approaches to ecosystem management, biodiversity conservation, and attainment of human well-being. Copyright © 2012 by Emerald Group Publishing Limited.\n",
      "\n",
      "\n",
      "Economic valuation for the conservation of marine biodiversity\n",
      "\n",
      "Policy makers are increasingly recognising the role of environmental valuation to guide and support the management and conservation of biodiversity. This paper presents a goods and services approach to determine the economic value of marine biodiversity in the UK, with the aim of clarifying the role of valuation in the management of marine biodiversity. The goods and services resulting from UK marine biodiversity are detailed, and 8 of the 13 services are valued in monetary terms. It is found that a decline in UK marine biodiversity could result in a varying, and at present unpredictable, change in the provision of goods and services, including reduced resilience and resistance to change, declining marine environmental health, reduced fisheries potential, and loss of recreational opportunities. The results suggest that this approach can facilitate biodiversity management by enabling the optimal allocation of limited management resources and through raising awareness of the importance of marine biodiversity. © 2007 Elsevier Ltd. All rights reserved.\n"
     ]
    }
   ],
   "source": [
    "for idx in match_fraction_idxs[:5]:\n",
    "    print('\\n')\n",
    "    print(corpus[idx].text)"
   ]
  },
  {
   "cell_type": "code",
   "execution_count": 51,
   "metadata": {
    "collapsed": false,
    "jupyter": {
     "outputs_hidden": false
    },
    "scrolled": true
   },
   "outputs": [
    {
     "name": "stdout",
     "output_type": "stream",
     "text": [
      "\n",
      "\n",
      "\n",
      "\n",
      "\n",
      "Using land-time-budgets to analyse farming systems and poverty alleviation policies in the Lao PDR\n",
      "\n",
      "This paper applies the method of 'Land-time-budget analysis' to a rural subsistence community and to the national economy of the Lao PDR. The analysis is conducted to meet two ends: • To identify the community's/the nation's resource use profile in terms of land and time use. The analysis identifies biophysical constraints of socio-economic development and trade-offs in resource use patterns. • To contrast the results of the analysis with national poverty alleviation policies and visualise their effects on local communities. Results show that shifting cultivation, a traditional socio-economic strategy in Laos, is doomed for extinction as a practice for securing subsistence. Little, if any, provisions are made by the planners to persuade shifting cultivators to leave their trade and moving to the lowlands and urban areas. Policies are shown to actually decrease the rate of subsistence, which is risk-averse, and increase market participation, which is unstable. Copyright © 2005 Inderscience Enterprises Ltd.\n",
      "\n",
      "\n",
      "\n",
      "\n",
      "\n",
      "\n",
      "\n",
      "\n",
      "Solidarity economy and recycling co-ops in São Paulo: Micro-credit to alleviate poverty\n",
      "\n",
      "Lack of working capital hinders collective commercialisation of recyclables. Social exclusion and bureaucratic constraints prevent recyclers from obtaining official bank loans. As they continue to depend on intermediaries, the cycle of poverty, dependency, and exclusion is perpetuated. The article discusses collective commercialisation and the micro-credit fund created among 30 recycling groups in the Brazilian city of São Paulo. A committee of eight women recyclers manages this fund. The article contextualises reflections on empowerment and community-based development, applying the theoretical framework of social and solidarity economy. The author finally suggests that inclusive governance structures have the potential to generate greater justice and sustainability. © 2009 Oxfam GB.\n",
      "\n",
      "\n",
      "\n",
      "\n",
      "\n",
      "Perceptions of Family Environment and Wraparound Processes: Associations with Age and Implications for Serving Transitioning Youth in Systems of Care\n",
      "\n",
      "Addressing the unique needs of youth transitioning to adulthood has long been viewed as a priority in implementation of systems of care (SOCs) and wraparound. Developmental research and \"practice-based evidence\" suggest that there are differences between transitioning youth and their younger peers in family environment and wraparound team processes. Although these differences are thought to have significant implications for wraparound practice, few studies have examined them empirically. The present research involves two studies examining differences across several age cohorts (i. e., 10-12, 13, 14, 15, 16-17 year-olds) ranging from early adolescent to transitioning youth in: (1) caregiver perceptions of role-related strain and family environment quality, and (2) facilitator, caregiver, and youth perceptions of wraparound processes. In Study #1, older age was associated with higher levels of caregiver strain. In Study #2, age was associated with differences between youth and other team members' perceptions of wraparound processes, such that older youth perceived teams as less cohesive than others on their teams. These findings suggest that transitioning youth and their families merit special consideration in wraparound implementation and underscore the importance of considering the perceptions of transitioning youth in system change and practice improvement efforts (192 words). © 2012 Society for Community Research and Action.\n",
      "\n",
      "\n",
      "\n"
     ]
    }
   ],
   "source": [
    "for idx in match_fraction_idxs[-8:]:\n",
    "    print('\\n')\n",
    "    print(corpus[idx].text)"
   ]
  },
  {
   "cell_type": "code",
   "execution_count": 52,
   "metadata": {
    "collapsed": true,
    "jupyter": {
     "outputs_hidden": true
    }
   },
   "outputs": [],
   "source": [
    "keyterms = {'intervention': {'conservation', 'conserve', 'conservancy',\n",
    "                             'protect*', 'management', 'awareness', 'law*',\n",
    "                             'policy*', 'reserve*', 'govern*', 'capacity-build*',\n",
    "                             'train*', 'regulation', 'payment for ecosystem services', 'PES',\n",
    "                             'ecotourism', 'sustainable use'},\n",
    "            'outcome': {'wellbeing', 'well-being', 'well being', 'ecosystem service*',\n",
    "                        'nutrition', 'skill*', 'empower*', 'clean water', 'livelihood*',\n",
    "                        'food security', 'resilience*', 'vulnerability', 'social capital',\n",
    "                        'attitude*', 'perception*', '(human)? health*', 'human capital',\n",
    "                        '(traditional)? knowledge'},\n",
    "            'intervention_qualifiers': {'marine', 'freshwater', 'coastal', 'forest*',\n",
    "                                        'ecosystem*', 'species', 'habitat*', 'biodiversity',\n",
    "                                        'sustainab*', 'ecolog*', 'integrated', 'landscape',\n",
    "                                        'seascape', 'coral reef*', 'natural resource*'},\n",
    "            'outcome_qualifiers': {'human*', 'people', 'person*', 'communit*',\n",
    "                                   'household*', 'fisher*', 'collaborative'}\n",
    "            }\n",
    "\n",
    "keyterms_joined = '|'.join(val.replace('*', '*?')\n",
    "                           for vals in keyterms.values()\n",
    "                           for val in vals)\n",
    "keyterms_re = re.compile(r'(?<=^|\\b)(' + keyterms_joined + r')(?=$|\\b)', flags=re.IGNORECASE)\n",
    "\n",
    "records = pgdb.run_query(query, {'review_id': review_id})\n",
    "\n",
    "match_fractions = []\n",
    "for record in records:\n",
    "    if not record['text']:\n",
    "        match_fractions.append(0.0)\n",
    "        continue\n",
    "    match_fractions.append(\n",
    "        sum(len(match.group()) for match in keyterms_re.finditer(record['text'])) / len(record['text']))\n",
    "\n",
    "match_fraction_idxs = np.argsort(match_fractions)[::-1]"
   ]
  },
  {
   "cell_type": "code",
   "execution_count": 53,
   "metadata": {
    "collapsed": false,
    "jupyter": {
     "outputs_hidden": false
    }
   },
   "outputs": [
    {
     "data": {
      "text/plain": [
       "array([ 3931, 23503, 14842, ..., 10493, 10513,     0])"
      ]
     },
     "execution_count": 53,
     "metadata": {},
     "output_type": "execute_result"
    }
   ],
   "source": [
    "match_fraction_idxs"
   ]
  },
  {
   "cell_type": "code",
   "execution_count": null,
   "metadata": {
    "collapsed": true,
    "jupyter": {
     "outputs_hidden": true
    }
   },
   "outputs": [],
   "source": []
  },
  {
   "cell_type": "code",
   "execution_count": null,
   "metadata": {
    "collapsed": true,
    "jupyter": {
     "outputs_hidden": true
    }
   },
   "outputs": [],
   "source": []
  },
  {
   "cell_type": "code",
   "execution_count": null,
   "metadata": {
    "collapsed": true,
    "jupyter": {
     "outputs_hidden": true
    }
   },
   "outputs": [],
   "source": []
  },
  {
   "cell_type": "code",
   "execution_count": null,
   "metadata": {
    "collapsed": true,
    "jupyter": {
     "outputs_hidden": true
    }
   },
   "outputs": [],
   "source": []
  },
  {
   "cell_type": "code",
   "execution_count": null,
   "metadata": {
    "collapsed": true,
    "jupyter": {
     "outputs_hidden": true
    }
   },
   "outputs": [],
   "source": []
  },
  {
   "cell_type": "code",
   "execution_count": null,
   "metadata": {
    "collapsed": true,
    "jupyter": {
     "outputs_hidden": true
    }
   },
   "outputs": [],
   "source": []
  }
 ],
 "metadata": {
  "kernelspec": {
   "display_name": "Python 3 (ipykernel)",
   "language": "python",
   "name": "python3"
  },
  "language_info": {
   "codemirror_mode": {
    "name": "ipython",
    "version": 3
   },
   "file_extension": ".py",
   "mimetype": "text/x-python",
   "name": "python",
   "nbconvert_exporter": "python",
   "pygments_lexer": "ipython3",
   "version": "3.9.16"
  }
 },
 "nbformat": 4,
 "nbformat_minor": 4
}
